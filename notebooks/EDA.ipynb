{
 "cells": [
  {
   "cell_type": "markdown",
   "metadata": {},
   "source": [
    "## Import libraries"
   ]
  },
  {
   "cell_type": "code",
   "execution_count": 1,
   "metadata": {},
   "outputs": [],
   "source": [
    "import pandas as pd\n",
    "import seaborn as sns\n",
    "from pathlib import Path\n",
    "from ydata_profiling import ProfileReport\n",
    "import matplotlib.pyplot as plt\n",
    "import plotly.express as px\n",
    "\n",
    "%matplotlib inline\n",
    "sns.set()"
   ]
  },
  {
   "cell_type": "markdown",
   "metadata": {},
   "source": [
    "## Load the data"
   ]
  },
  {
   "cell_type": "code",
   "execution_count": 2,
   "metadata": {},
   "outputs": [],
   "source": [
    "data_path = Path(\"../data/\")\n",
    "file_name = \"pet_adoption_data.csv\"\n",
    "full_data_path = data_path.joinpath(file_name)"
   ]
  },
  {
   "cell_type": "code",
   "execution_count": 3,
   "metadata": {},
   "outputs": [],
   "source": [
    "def read_data(file_path: Path) -> pd.DataFrame:\n",
    "    \"\"\"\n",
    "    Read the .csv data from the file path.\n",
    "\n",
    "    :param file_path: the full path of the csv file\n",
    "    :return: a Pandas dataframe\n",
    "    \"\"\"\n",
    "    df = pd.read_csv(file_path)\n",
    "    return df"
   ]
  },
  {
   "cell_type": "code",
   "execution_count": 4,
   "metadata": {},
   "outputs": [
    {
     "name": "stdout",
     "output_type": "stream",
     "text": [
      "(2007, 13)\n"
     ]
    }
   ],
   "source": [
    "data = read_data(file_path=full_data_path)\n",
    "print(data.shape)"
   ]
  },
  {
   "cell_type": "code",
   "execution_count": 5,
   "metadata": {},
   "outputs": [
    {
     "data": {
      "text/html": [
       "<div>\n",
       "<style scoped>\n",
       "    .dataframe tbody tr th:only-of-type {\n",
       "        vertical-align: middle;\n",
       "    }\n",
       "\n",
       "    .dataframe tbody tr th {\n",
       "        vertical-align: top;\n",
       "    }\n",
       "\n",
       "    .dataframe thead th {\n",
       "        text-align: right;\n",
       "    }\n",
       "</style>\n",
       "<table border=\"1\" class=\"dataframe\">\n",
       "  <thead>\n",
       "    <tr style=\"text-align: right;\">\n",
       "      <th></th>\n",
       "      <th>PetID</th>\n",
       "      <th>PetType</th>\n",
       "      <th>Breed</th>\n",
       "      <th>AgeMonths</th>\n",
       "      <th>Color</th>\n",
       "      <th>Size</th>\n",
       "      <th>WeightKg</th>\n",
       "      <th>Vaccinated</th>\n",
       "      <th>HealthCondition</th>\n",
       "      <th>TimeInShelterDays</th>\n",
       "      <th>AdoptionFee</th>\n",
       "      <th>PreviousOwner</th>\n",
       "      <th>AdoptionLikelihood</th>\n",
       "    </tr>\n",
       "  </thead>\n",
       "  <tbody>\n",
       "    <tr>\n",
       "      <th>0</th>\n",
       "      <td>500</td>\n",
       "      <td>Bird</td>\n",
       "      <td>Parakeet</td>\n",
       "      <td>131</td>\n",
       "      <td>Orange</td>\n",
       "      <td>Large</td>\n",
       "      <td>5.039768</td>\n",
       "      <td>1</td>\n",
       "      <td>0</td>\n",
       "      <td>27</td>\n",
       "      <td>140</td>\n",
       "      <td>0</td>\n",
       "      <td>0</td>\n",
       "    </tr>\n",
       "    <tr>\n",
       "      <th>1</th>\n",
       "      <td>501</td>\n",
       "      <td>Rabbit</td>\n",
       "      <td>Rabbit</td>\n",
       "      <td>73</td>\n",
       "      <td>White</td>\n",
       "      <td>Large</td>\n",
       "      <td>16.086727</td>\n",
       "      <td>0</td>\n",
       "      <td>0</td>\n",
       "      <td>8</td>\n",
       "      <td>235</td>\n",
       "      <td>0</td>\n",
       "      <td>0</td>\n",
       "    </tr>\n",
       "    <tr>\n",
       "      <th>2</th>\n",
       "      <td>502</td>\n",
       "      <td>Dog</td>\n",
       "      <td>Golden Retriever</td>\n",
       "      <td>136</td>\n",
       "      <td>Orange</td>\n",
       "      <td>Medium</td>\n",
       "      <td>2.076286</td>\n",
       "      <td>0</td>\n",
       "      <td>0</td>\n",
       "      <td>85</td>\n",
       "      <td>385</td>\n",
       "      <td>0</td>\n",
       "      <td>0</td>\n",
       "    </tr>\n",
       "    <tr>\n",
       "      <th>3</th>\n",
       "      <td>503</td>\n",
       "      <td>Bird</td>\n",
       "      <td>Parakeet</td>\n",
       "      <td>97</td>\n",
       "      <td>White</td>\n",
       "      <td>Small</td>\n",
       "      <td>3.339423</td>\n",
       "      <td>0</td>\n",
       "      <td>0</td>\n",
       "      <td>61</td>\n",
       "      <td>217</td>\n",
       "      <td>1</td>\n",
       "      <td>0</td>\n",
       "    </tr>\n",
       "    <tr>\n",
       "      <th>4</th>\n",
       "      <td>504</td>\n",
       "      <td>Rabbit</td>\n",
       "      <td>Rabbit</td>\n",
       "      <td>123</td>\n",
       "      <td>Gray</td>\n",
       "      <td>Large</td>\n",
       "      <td>20.498100</td>\n",
       "      <td>0</td>\n",
       "      <td>0</td>\n",
       "      <td>28</td>\n",
       "      <td>14</td>\n",
       "      <td>1</td>\n",
       "      <td>0</td>\n",
       "    </tr>\n",
       "  </tbody>\n",
       "</table>\n",
       "</div>"
      ],
      "text/plain": [
       "   PetID PetType             Breed  AgeMonths   Color    Size   WeightKg  \\\n",
       "0    500    Bird          Parakeet        131  Orange   Large   5.039768   \n",
       "1    501  Rabbit            Rabbit         73   White   Large  16.086727   \n",
       "2    502     Dog  Golden Retriever        136  Orange  Medium   2.076286   \n",
       "3    503    Bird          Parakeet         97   White   Small   3.339423   \n",
       "4    504  Rabbit            Rabbit        123    Gray   Large  20.498100   \n",
       "\n",
       "   Vaccinated  HealthCondition  TimeInShelterDays  AdoptionFee  PreviousOwner  \\\n",
       "0           1                0                 27          140              0   \n",
       "1           0                0                  8          235              0   \n",
       "2           0                0                 85          385              0   \n",
       "3           0                0                 61          217              1   \n",
       "4           0                0                 28           14              1   \n",
       "\n",
       "   AdoptionLikelihood  \n",
       "0                   0  \n",
       "1                   0  \n",
       "2                   0  \n",
       "3                   0  \n",
       "4                   0  "
      ]
     },
     "execution_count": 5,
     "metadata": {},
     "output_type": "execute_result"
    }
   ],
   "source": [
    "data.head()"
   ]
  },
  {
   "cell_type": "code",
   "execution_count": 36,
   "metadata": {},
   "outputs": [
    {
     "data": {
      "text/html": [
       "<div>\n",
       "<style scoped>\n",
       "    .dataframe tbody tr th:only-of-type {\n",
       "        vertical-align: middle;\n",
       "    }\n",
       "\n",
       "    .dataframe tbody tr th {\n",
       "        vertical-align: top;\n",
       "    }\n",
       "\n",
       "    .dataframe thead th {\n",
       "        text-align: right;\n",
       "    }\n",
       "</style>\n",
       "<table border=\"1\" class=\"dataframe\">\n",
       "  <thead>\n",
       "    <tr style=\"text-align: right;\">\n",
       "      <th></th>\n",
       "      <th>PetID</th>\n",
       "      <th>AgeMonths</th>\n",
       "      <th>WeightKg</th>\n",
       "      <th>Vaccinated</th>\n",
       "      <th>HealthCondition</th>\n",
       "      <th>TimeInShelterDays</th>\n",
       "      <th>AdoptionFee</th>\n",
       "      <th>PreviousOwner</th>\n",
       "      <th>AdoptionLikelihood</th>\n",
       "    </tr>\n",
       "  </thead>\n",
       "  <tbody>\n",
       "    <tr>\n",
       "      <th>count</th>\n",
       "      <td>2007.000000</td>\n",
       "      <td>2007.000000</td>\n",
       "      <td>2007.000000</td>\n",
       "      <td>2007.000000</td>\n",
       "      <td>2007.000000</td>\n",
       "      <td>2007.000000</td>\n",
       "      <td>2007.000000</td>\n",
       "      <td>2007.000000</td>\n",
       "      <td>2007.000000</td>\n",
       "    </tr>\n",
       "    <tr>\n",
       "      <th>mean</th>\n",
       "      <td>1503.000000</td>\n",
       "      <td>92.279522</td>\n",
       "      <td>15.705776</td>\n",
       "      <td>0.701046</td>\n",
       "      <td>0.196313</td>\n",
       "      <td>43.974091</td>\n",
       "      <td>249.142003</td>\n",
       "      <td>0.301943</td>\n",
       "      <td>0.328351</td>\n",
       "    </tr>\n",
       "    <tr>\n",
       "      <th>std</th>\n",
       "      <td>579.515315</td>\n",
       "      <td>52.148363</td>\n",
       "      <td>8.327749</td>\n",
       "      <td>0.457914</td>\n",
       "      <td>0.397307</td>\n",
       "      <td>25.740253</td>\n",
       "      <td>142.887040</td>\n",
       "      <td>0.459215</td>\n",
       "      <td>0.469730</td>\n",
       "    </tr>\n",
       "    <tr>\n",
       "      <th>min</th>\n",
       "      <td>500.000000</td>\n",
       "      <td>1.000000</td>\n",
       "      <td>1.018198</td>\n",
       "      <td>0.000000</td>\n",
       "      <td>0.000000</td>\n",
       "      <td>1.000000</td>\n",
       "      <td>0.000000</td>\n",
       "      <td>0.000000</td>\n",
       "      <td>0.000000</td>\n",
       "    </tr>\n",
       "    <tr>\n",
       "      <th>25%</th>\n",
       "      <td>1001.500000</td>\n",
       "      <td>48.000000</td>\n",
       "      <td>8.730396</td>\n",
       "      <td>0.000000</td>\n",
       "      <td>0.000000</td>\n",
       "      <td>21.000000</td>\n",
       "      <td>127.000000</td>\n",
       "      <td>0.000000</td>\n",
       "      <td>0.000000</td>\n",
       "    </tr>\n",
       "    <tr>\n",
       "      <th>50%</th>\n",
       "      <td>1503.000000</td>\n",
       "      <td>94.000000</td>\n",
       "      <td>15.925416</td>\n",
       "      <td>1.000000</td>\n",
       "      <td>0.000000</td>\n",
       "      <td>45.000000</td>\n",
       "      <td>242.000000</td>\n",
       "      <td>0.000000</td>\n",
       "      <td>0.000000</td>\n",
       "    </tr>\n",
       "    <tr>\n",
       "      <th>75%</th>\n",
       "      <td>2004.500000</td>\n",
       "      <td>138.000000</td>\n",
       "      <td>22.737180</td>\n",
       "      <td>1.000000</td>\n",
       "      <td>0.000000</td>\n",
       "      <td>66.000000</td>\n",
       "      <td>375.000000</td>\n",
       "      <td>1.000000</td>\n",
       "      <td>1.000000</td>\n",
       "    </tr>\n",
       "    <tr>\n",
       "      <th>max</th>\n",
       "      <td>2506.000000</td>\n",
       "      <td>179.000000</td>\n",
       "      <td>29.995628</td>\n",
       "      <td>1.000000</td>\n",
       "      <td>1.000000</td>\n",
       "      <td>89.000000</td>\n",
       "      <td>499.000000</td>\n",
       "      <td>1.000000</td>\n",
       "      <td>1.000000</td>\n",
       "    </tr>\n",
       "  </tbody>\n",
       "</table>\n",
       "</div>"
      ],
      "text/plain": [
       "             PetID    AgeMonths     WeightKg   Vaccinated  HealthCondition  \\\n",
       "count  2007.000000  2007.000000  2007.000000  2007.000000      2007.000000   \n",
       "mean   1503.000000    92.279522    15.705776     0.701046         0.196313   \n",
       "std     579.515315    52.148363     8.327749     0.457914         0.397307   \n",
       "min     500.000000     1.000000     1.018198     0.000000         0.000000   \n",
       "25%    1001.500000    48.000000     8.730396     0.000000         0.000000   \n",
       "50%    1503.000000    94.000000    15.925416     1.000000         0.000000   \n",
       "75%    2004.500000   138.000000    22.737180     1.000000         0.000000   \n",
       "max    2506.000000   179.000000    29.995628     1.000000         1.000000   \n",
       "\n",
       "       TimeInShelterDays  AdoptionFee  PreviousOwner  AdoptionLikelihood  \n",
       "count        2007.000000  2007.000000    2007.000000         2007.000000  \n",
       "mean           43.974091   249.142003       0.301943            0.328351  \n",
       "std            25.740253   142.887040       0.459215            0.469730  \n",
       "min             1.000000     0.000000       0.000000            0.000000  \n",
       "25%            21.000000   127.000000       0.000000            0.000000  \n",
       "50%            45.000000   242.000000       0.000000            0.000000  \n",
       "75%            66.000000   375.000000       1.000000            1.000000  \n",
       "max            89.000000   499.000000       1.000000            1.000000  "
      ]
     },
     "execution_count": 36,
     "metadata": {},
     "output_type": "execute_result"
    }
   ],
   "source": [
    "data.describe()"
   ]
  },
  {
   "cell_type": "markdown",
   "metadata": {},
   "source": [
    "## Generate ydata-profiling report"
   ]
  },
  {
   "cell_type": "markdown",
   "metadata": {},
   "source": [
    "#### Display the profiling report in the Jupyter notebook"
   ]
  },
  {
   "cell_type": "code",
   "execution_count": null,
   "metadata": {},
   "outputs": [],
   "source": [
    "profile = ProfileReport(data, title=\"Pet Adoption Data Profiling Report\")\n",
    "profile.to_notebook_iframe()"
   ]
  },
  {
   "cell_type": "markdown",
   "metadata": {},
   "source": [
    "#### Export the profiling report as HTML file to the `reports` folder"
   ]
  },
  {
   "cell_type": "code",
   "execution_count": null,
   "metadata": {},
   "outputs": [],
   "source": [
    "# import os\n",
    "\n",
    "# reports_dir = Path(\"../reports/\")\n",
    "# report_file_name = \"profiling_report.html\"\n",
    "# full_report_path = reports_dir.joinpath(report_file_name)\n",
    "\n",
    "# os.makedirs(reports_dir, exist_ok=True)\n",
    "# profile.to_file(output_file=full_report_path)"
   ]
  },
  {
   "cell_type": "markdown",
   "metadata": {},
   "source": [
    "Profiling report insights:\n",
    "\n",
    "- There are 2007 records.\n",
    "- There are no missing values in any of the columns.\n",
    "- There are no duplicate records.\n",
    "- The `Breed` and `PetType` columns are highly correlated."
   ]
  },
  {
   "cell_type": "markdown",
   "metadata": {},
   "source": [
    "## Plots"
   ]
  },
  {
   "cell_type": "markdown",
   "metadata": {},
   "source": [
    "Lets produce some plots to visualize the data."
   ]
  },
  {
   "cell_type": "markdown",
   "metadata": {},
   "source": [
    "#### Pet type"
   ]
  },
  {
   "cell_type": "code",
   "execution_count": 6,
   "metadata": {},
   "outputs": [
    {
     "data": {
      "text/plain": [
       "Text(0, 0.5, 'Count')"
      ]
     },
     "execution_count": 6,
     "metadata": {},
     "output_type": "execute_result"
    },
    {
     "data": {
      "image/png": "[encoded data removed]",
      "text/plain": [
       "<Figure size 640x480 with 1 Axes>"
      ]
     },
     "metadata": {},
     "output_type": "display_data"
    }
   ],
   "source": [
    "data[\"PetType\"].hist()\n",
    "plt.xlabel(\"Pet Type\")\n",
    "plt.ylabel(\"Count\")"
   ]
  },
  {
   "cell_type": "markdown",
   "metadata": {},
   "source": [
    "#### Breed"
   ]
  },
  {
   "cell_type": "code",
   "execution_count": 7,
   "metadata": {},
   "outputs": [
    {
     "data": {
      "image/png": "[encoded data removed]",
      "text/plain": [
       "<Figure size 640x480 with 1 Axes>"
      ]
     },
     "metadata": {},
     "output_type": "display_data"
    }
   ],
   "source": [
    "sns.countplot(data[\"Breed\"])\n",
    "plt.show()"
   ]
  },
  {
   "cell_type": "code",
   "execution_count": 47,
   "metadata": {},
   "outputs": [
    {
     "data": {
      "application/vnd.plotly.v1+json": {
       "config": {
        "plotlyServerURL": "https://plot.ly"
       },
       "data": [
        {
         "domain": {
          "x": [
           0,
           1
          ],
          "y": [
           0,
           1
          ]
         },
         "hovertemplate": "Breed=%{label}<br>counts=%{value}<extra></extra>",
         "labels": [
          "Golden Retriever",
          "Labrador",
          "Parakeet",
          "Persian",
          "Poodle",
          "Rabbit",
          "Siamese"
         ],
         "legendgroup": "",
         "name": "",
         "showlegend": true,
         "type": "pie",
         "values": [
          162,
          193,
          487,
          252,
          167,
          493,
          253
         ]
        }
       ],
       "layout": {
        "height": 500,
        "legend": {
         "tracegroupgap": 0
        },
        "piecolorway": [
         "#e2d9e2",
         "#9ebbc9",
         "#6785be",
         "#5e43a5",
         "#421257",
         "#471340",
         "#8e2c50",
         "#ba6657",
         "#ceac94",
         "#e2d9e2"
        ],
        "template": {
         "data": {
          "bar": [
           {
            "error_x": {
             "color": "#2a3f5f"
            },
            "error_y": {
             "color": "#2a3f5f"
            },
            "marker": {
             "line": {
              "color": "#E5ECF6",
              "width": 0.5
             },
             "pattern": {
              "fillmode": "overlay",
              "size": 10,
              "solidity": 0.2
             }
            },
            "type": "bar"
           }
          ],
          "barpolar": [
           {
            "marker": {
             "line": {
              "color": "#E5ECF6",
              "width": 0.5
             },
             "pattern": {
              "fillmode": "overlay",
              "size": 10,
              "solidity": 0.2
             }
            },
            "type": "barpolar"
           }
          ],
          "carpet": [
           {
            "aaxis": {
             "endlinecolor": "#2a3f5f",
             "gridcolor": "white",
             "linecolor": "white",
             "minorgridcolor": "white",
             "startlinecolor": "#2a3f5f"
            },
            "baxis": {
             "endlinecolor": "#2a3f5f",
             "gridcolor": "white",
             "linecolor": "white",
             "minorgridcolor": "white",
             "startlinecolor": "#2a3f5f"
            },
            "type": "carpet"
           }
          ],
          "choropleth": [
           {
            "colorbar": {
             "outlinewidth": 0,
             "ticks": ""
            },
            "type": "choropleth"
           }
          ],
          "contour": [
           {
            "colorbar": {
             "outlinewidth": 0,
             "ticks": ""
            },
            "colorscale": [
             [
              0,
              "#0d0887"
             ],
             [
              0.1111111111111111,
              "#46039f"
             ],
             [
              0.2222222222222222,
              "#7201a8"
             ],
             [
              0.3333333333333333,
              "#9c179e"
             ],
             [
              0.4444444444444444,
              "#bd3786"
             ],
             [
              0.5555555555555556,
              "#d8576b"
             ],
             [
              0.6666666666666666,
              "#ed7953"
             ],
             [
              0.7777777777777778,
              "#fb9f3a"
             ],
             [
              0.8888888888888888,
              "#fdca26"
             ],
             [
              1,
              "#f0f921"
             ]
            ],
            "type": "contour"
           }
          ],
          "contourcarpet": [
           {
            "colorbar": {
             "outlinewidth": 0,
             "ticks": ""
            },
            "type": "contourcarpet"
           }
          ],
          "heatmap": [
           {
            "colorbar": {
             "outlinewidth": 0,
             "ticks": ""
            },
            "colorscale": [
             [
              0,
              "#0d0887"
             ],
             [
              0.1111111111111111,
              "#46039f"
             ],
             [
              0.2222222222222222,
              "#7201a8"
             ],
             [
              0.3333333333333333,
              "#9c179e"
             ],
             [
              0.4444444444444444,
              "#bd3786"
             ],
             [
              0.5555555555555556,
              "#d8576b"
             ],
             [
              0.6666666666666666,
              "#ed7953"
             ],
             [
              0.7777777777777778,
              "#fb9f3a"
             ],
             [
              0.8888888888888888,
              "#fdca26"
             ],
             [
              1,
              "#f0f921"
             ]
            ],
            "type": "heatmap"
           }
          ],
          "heatmapgl": [
           {
            "colorbar": {
             "outlinewidth": 0,
             "ticks": ""
            },
            "colorscale": [
             [
              0,
              "#0d0887"
             ],
             [
              0.1111111111111111,
              "#46039f"
             ],
             [
              0.2222222222222222,
              "#7201a8"
             ],
             [
              0.3333333333333333,
              "#9c179e"
             ],
             [
              0.4444444444444444,
              "#bd3786"
             ],
             [
              0.5555555555555556,
              "#d8576b"
             ],
             [
              0.6666666666666666,
              "#ed7953"
             ],
             [
              0.7777777777777778,
              "#fb9f3a"
             ],
             [
              0.8888888888888888,
              "#fdca26"
             ],
             [
              1,
              "#f0f921"
             ]
            ],
            "type": "heatmapgl"
           }
          ],
          "histogram": [
           {
            "marker": {
             "pattern": {
              "fillmode": "overlay",
              "size": 10,
              "solidity": 0.2
             }
            },
            "type": "histogram"
           }
          ],
          "histogram2d": [
           {
            "colorbar": {
             "outlinewidth": 0,
             "ticks": ""
            },
            "colorscale": [
             [
              0,
              "#0d0887"
             ],
             [
              0.1111111111111111,
              "#46039f"
             ],
             [
              0.2222222222222222,
              "#7201a8"
             ],
             [
              0.3333333333333333,
              "#9c179e"
             ],
             [
              0.4444444444444444,
              "#bd3786"
             ],
             [
              0.5555555555555556,
              "#d8576b"
             ],
             [
              0.6666666666666666,
              "#ed7953"
             ],
             [
              0.7777777777777778,
              "#fb9f3a"
             ],
             [
              0.8888888888888888,
              "#fdca26"
             ],
             [
              1,
              "#f0f921"
             ]
            ],
            "type": "histogram2d"
           }
          ],
          "histogram2dcontour": [
           {
            "colorbar": {
             "outlinewidth": 0,
             "ticks": ""
            },
            "colorscale": [
             [
              0,
              "#0d0887"
             ],
             [
              0.1111111111111111,
              "#46039f"
             ],
             [
              0.2222222222222222,
              "#7201a8"
             ],
             [
              0.3333333333333333,
              "#9c179e"
             ],
             [
              0.4444444444444444,
              "#bd3786"
             ],
             [
              0.5555555555555556,
              "#d8576b"
             ],
             [
              0.6666666666666666,
              "#ed7953"
             ],
             [
              0.7777777777777778,
              "#fb9f3a"
             ],
             [
              0.8888888888888888,
              "#fdca26"
             ],
             [
              1,
              "#f0f921"
             ]
            ],
            "type": "histogram2dcontour"
           }
          ],
          "mesh3d": [
           {
            "colorbar": {
             "outlinewidth": 0,
             "ticks": ""
            },
            "type": "mesh3d"
           }
          ],
          "parcoords": [
           {
            "line": {
             "colorbar": {
              "outlinewidth": 0,
              "ticks": ""
             }
            },
            "type": "parcoords"
           }
          ],
          "pie": [
           {
            "automargin": true,
            "type": "pie"
           }
          ],
          "scatter": [
           {
            "fillpattern": {
             "fillmode": "overlay",
             "size": 10,
             "solidity": 0.2
            },
            "type": "scatter"
           }
          ],
          "scatter3d": [
           {
            "line": {
             "colorbar": {
              "outlinewidth": 0,
              "ticks": ""
             }
            },
            "marker": {
             "colorbar": {
              "outlinewidth": 0,
              "ticks": ""
             }
            },
            "type": "scatter3d"
           }
          ],
          "scattercarpet": [
           {
            "marker": {
             "colorbar": {
              "outlinewidth": 0,
              "ticks": ""
             }
            },
            "type": "scattercarpet"
           }
          ],
          "scattergeo": [
           {
            "marker": {
             "colorbar": {
              "outlinewidth": 0,
              "ticks": ""
             }
            },
            "type": "scattergeo"
           }
          ],
          "scattergl": [
           {
            "marker": {
             "colorbar": {
              "outlinewidth": 0,
              "ticks": ""
             }
            },
            "type": "scattergl"
           }
          ],
          "scattermapbox": [
           {
            "marker": {
             "colorbar": {
              "outlinewidth": 0,
              "ticks": ""
             }
            },
            "type": "scattermapbox"
           }
          ],
          "scatterpolar": [
           {
            "marker": {
             "colorbar": {
              "outlinewidth": 0,
              "ticks": ""
             }
            },
            "type": "scatterpolar"
           }
          ],
          "scatterpolargl": [
           {
            "marker": {
             "colorbar": {
              "outlinewidth": 0,
              "ticks": ""
             }
            },
            "type": "scatterpolargl"
           }
          ],
          "scatterternary": [
           {
            "marker": {
             "colorbar": {
              "outlinewidth": 0,
              "ticks": ""
             }
            },
            "type": "scatterternary"
           }
          ],
          "surface": [
           {
            "colorbar": {
             "outlinewidth": 0,
             "ticks": ""
            },
            "colorscale": [
             [
              0,
              "#0d0887"
             ],
             [
              0.1111111111111111,
              "#46039f"
             ],
             [
              0.2222222222222222,
              "#7201a8"
             ],
             [
              0.3333333333333333,
              "#9c179e"
             ],
             [
              0.4444444444444444,
              "#bd3786"
             ],
             [
              0.5555555555555556,
              "#d8576b"
             ],
             [
              0.6666666666666666,
              "#ed7953"
             ],
             [
              0.7777777777777778,
              "#fb9f3a"
             ],
             [
              0.8888888888888888,
              "#fdca26"
             ],
             [
              1,
              "#f0f921"
             ]
            ],
            "type": "surface"
           }
          ],
          "table": [
           {
            "cells": {
             "fill": {
              "color": "#EBF0F8"
             },
             "line": {
              "color": "white"
             }
            },
            "header": {
             "fill": {
              "color": "#C8D4E3"
             },
             "line": {
              "color": "white"
             }
            },
            "type": "table"
           }
          ]
         },
         "layout": {
          "annotationdefaults": {
           "arrowcolor": "#2a3f5f",
           "arrowhead": 0,
           "arrowwidth": 1
          },
          "autotypenumbers": "strict",
          "coloraxis": {
           "colorbar": {
            "outlinewidth": 0,
            "ticks": ""
           }
          },
          "colorscale": {
           "diverging": [
            [
             0,
             "#8e0152"
            ],
            [
             0.1,
             "#c51b7d"
            ],
            [
             0.2,
             "#de77ae"
            ],
            [
             0.3,
             "#f1b6da"
            ],
            [
             0.4,
             "#fde0ef"
            ],
            [
             0.5,
             "#f7f7f7"
            ],
            [
             0.6,
             "#e6f5d0"
            ],
            [
             0.7,
             "#b8e186"
            ],
            [
             0.8,
             "#7fbc41"
            ],
            [
             0.9,
             "#4d9221"
            ],
            [
             1,
             "#276419"
            ]
           ],
           "sequential": [
            [
             0,
             "#0d0887"
            ],
            [
             0.1111111111111111,
             "#46039f"
            ],
            [
             0.2222222222222222,
             "#7201a8"
            ],
            [
             0.3333333333333333,
             "#9c179e"
            ],
            [
             0.4444444444444444,
             "#bd3786"
            ],
            [
             0.5555555555555556,
             "#d8576b"
            ],
            [
             0.6666666666666666,
             "#ed7953"
            ],
            [
             0.7777777777777778,
             "#fb9f3a"
            ],
            [
             0.8888888888888888,
             "#fdca26"
            ],
            [
             1,
             "#f0f921"
            ]
           ],
           "sequentialminus": [
            [
             0,
             "#0d0887"
            ],
            [
             0.1111111111111111,
             "#46039f"
            ],
            [
             0.2222222222222222,
             "#7201a8"
            ],
            [
             0.3333333333333333,
             "#9c179e"
            ],
            [
             0.4444444444444444,
             "#bd3786"
            ],
            [
             0.5555555555555556,
             "#d8576b"
            ],
            [
             0.6666666666666666,
             "#ed7953"
            ],
            [
             0.7777777777777778,
             "#fb9f3a"
            ],
            [
             0.8888888888888888,
             "#fdca26"
            ],
            [
             1,
             "#f0f921"
            ]
           ]
          },
          "colorway": [
           "#636efa",
           "#EF553B",
           "#00cc96",
           "#ab63fa",
           "#FFA15A",
           "#19d3f3",
           "#FF6692",
           "#B6E880",
           "#FF97FF",
           "#FECB52"
          ],
          "font": {
           "color": "#2a3f5f"
          },
          "geo": {
           "bgcolor": "white",
           "lakecolor": "white",
           "landcolor": "#E5ECF6",
           "showlakes": true,
           "showland": true,
           "subunitcolor": "white"
          },
          "hoverlabel": {
           "align": "left"
          },
          "hovermode": "closest",
          "mapbox": {
           "style": "light"
          },
          "paper_bgcolor": "white",
          "plot_bgcolor": "#E5ECF6",
          "polar": {
           "angularaxis": {
            "gridcolor": "white",
            "linecolor": "white",
            "ticks": ""
           },
           "bgcolor": "#E5ECF6",
           "radialaxis": {
            "gridcolor": "white",
            "linecolor": "white",
            "ticks": ""
           }
          },
          "scene": {
           "xaxis": {
            "backgroundcolor": "#E5ECF6",
            "gridcolor": "white",
            "gridwidth": 2,
            "linecolor": "white",
            "showbackground": true,
            "ticks": "",
            "zerolinecolor": "white"
           },
           "yaxis": {
            "backgroundcolor": "#E5ECF6",
            "gridcolor": "white",
            "gridwidth": 2,
            "linecolor": "white",
            "showbackground": true,
            "ticks": "",
            "zerolinecolor": "white"
           },
           "zaxis": {
            "backgroundcolor": "#E5ECF6",
            "gridcolor": "white",
            "gridwidth": 2,
            "linecolor": "white",
            "showbackground": true,
            "ticks": "",
            "zerolinecolor": "white"
           }
          },
          "shapedefaults": {
           "line": {
            "color": "#2a3f5f"
           }
          },
          "ternary": {
           "aaxis": {
            "gridcolor": "white",
            "linecolor": "white",
            "ticks": ""
           },
           "baxis": {
            "gridcolor": "white",
            "linecolor": "white",
            "ticks": ""
           },
           "bgcolor": "#E5ECF6",
           "caxis": {
            "gridcolor": "white",
            "linecolor": "white",
            "ticks": ""
           }
          },
          "title": {
           "x": 0.05
          },
          "xaxis": {
           "automargin": true,
           "gridcolor": "white",
           "linecolor": "white",
           "ticks": "",
           "title": {
            "standoff": 15
           },
           "zerolinecolor": "white",
           "zerolinewidth": 2
          },
          "yaxis": {
           "automargin": true,
           "gridcolor": "white",
           "linecolor": "white",
           "ticks": "",
           "title": {
            "standoff": 15
           },
           "zerolinecolor": "white",
           "zerolinewidth": 2
          }
         }
        },
        "title": {
         "text": "Distribution of Breed"
        },
        "width": 700
       }
      },
      "text/html": [
       "<div>                            <div id=\"fd46ea0f-19d4-48f2-98e9-60b42cca85bf\" class=\"plotly-graph-div\" style=\"height:500px; width:700px;\"></div>            <script type=\"text/javascript\">                require([\"plotly\"], function(Plotly) {                    window.PLOTLYENV=window.PLOTLYENV || {};                                    if (document.getElementById(\"fd46ea0f-19d4-48f2-98e9-60b42cca85bf\")) {                    Plotly.newPlot(                        \"fd46ea0f-19d4-48f2-98e9-60b42cca85bf\",                        [{\"domain\":{\"x\":[0.0,1.0],\"y\":[0.0,1.0]},\"hovertemplate\":\"Breed=%{label}\\u003cbr\\u003ecounts=%{value}\\u003cextra\\u003e\\u003c\\u002fextra\\u003e\",\"labels\":[\"Golden Retriever\",\"Labrador\",\"Parakeet\",\"Persian\",\"Poodle\",\"Rabbit\",\"Siamese\"],\"legendgroup\":\"\",\"name\":\"\",\"showlegend\":true,\"values\":[162,193,487,252,167,493,253],\"type\":\"pie\"}],                        {\"template\":{\"data\":{\"histogram2dcontour\":[{\"type\":\"histogram2dcontour\",\"colorbar\":{\"outlinewidth\":0,\"ticks\":\"\"},\"colorscale\":[[0.0,\"#0d0887\"],[0.1111111111111111,\"#46039f\"],[0.2222222222222222,\"#7201a8\"],[0.3333333333333333,\"#9c179e\"],[0.4444444444444444,\"#bd3786\"],[0.5555555555555556,\"#d8576b\"],[0.6666666666666666,\"#ed7953\"],[0.7777777777777778,\"#fb9f3a\"],[0.8888888888888888,\"#fdca26\"],[1.0,\"#f0f921\"]]}],\"choropleth\":[{\"type\":\"choropleth\",\"colorbar\":{\"outlinewidth\":0,\"ticks\":\"\"}}],\"histogram2d\":[{\"type\":\"histogram2d\",\"colorbar\":{\"outlinewidth\":0,\"ticks\":\"\"},\"colorscale\":[[0.0,\"#0d0887\"],[0.1111111111111111,\"#46039f\"],[0.2222222222222222,\"#7201a8\"],[0.3333333333333333,\"#9c179e\"],[0.4444444444444444,\"#bd3786\"],[0.5555555555555556,\"#d8576b\"],[0.6666666666666666,\"#ed7953\"],[0.7777777777777778,\"#fb9f3a\"],[0.8888888888888888,\"#fdca26\"],[1.0,\"#f0f921\"]]}],\"heatmap\":[{\"type\":\"heatmap\",\"colorbar\":{\"outlinewidth\":0,\"ticks\":\"\"},\"colorscale\":[[0.0,\"#0d0887\"],[0.1111111111111111,\"#46039f\"],[0.2222222222222222,\"#7201a8\"],[0.3333333333333333,\"#9c179e\"],[0.4444444444444444,\"#bd3786\"],[0.5555555555555556,\"#d8576b\"],[0.6666666666666666,\"#ed7953\"],[0.7777777777777778,\"#fb9f3a\"],[0.8888888888888888,\"#fdca26\"],[1.0,\"#f0f921\"]]}],\"heatmapgl\":[{\"type\":\"heatmapgl\",\"colorbar\":{\"outlinewidth\":0,\"ticks\":\"\"},\"colorscale\":[[0.0,\"#0d0887\"],[0.1111111111111111,\"#46039f\"],[0.2222222222222222,\"#7201a8\"],[0.3333333333333333,\"#9c179e\"],[0.4444444444444444,\"#bd3786\"],[0.5555555555555556,\"#d8576b\"],[0.6666666666666666,\"#ed7953\"],[0.7777777777777778,\"#fb9f3a\"],[0.8888888888888888,\"#fdca26\"],[1.0,\"#f0f921\"]]}],\"contourcarpet\":[{\"type\":\"contourcarpet\",\"colorbar\":{\"outlinewidth\":0,\"ticks\":\"\"}}],\"contour\":[{\"type\":\"contour\",\"colorbar\":{\"outlinewidth\":0,\"ticks\":\"\"},\"colorscale\":[[0.0,\"#0d0887\"],[0.1111111111111111,\"#46039f\"],[0.2222222222222222,\"#7201a8\"],[0.3333333333333333,\"#9c179e\"],[0.4444444444444444,\"#bd3786\"],[0.5555555555555556,\"#d8576b\"],[0.6666666666666666,\"#ed7953\"],[0.7777777777777778,\"#fb9f3a\"],[0.8888888888888888,\"#fdca26\"],[1.0,\"#f0f921\"]]}],\"surface\":[{\"type\":\"surface\",\"colorbar\":{\"outlinewidth\":0,\"ticks\":\"\"},\"colorscale\":[[0.0,\"#0d0887\"],[0.1111111111111111,\"#46039f\"],[0.2222222222222222,\"#7201a8\"],[0.3333333333333333,\"#9c179e\"],[0.4444444444444444,\"#bd3786\"],[0.5555555555555556,\"#d8576b\"],[0.6666666666666666,\"#ed7953\"],[0.7777777777777778,\"#fb9f3a\"],[0.8888888888888888,\"#fdca26\"],[1.0,\"#f0f921\"]]}],\"mesh3d\":[{\"type\":\"mesh3d\",\"colorbar\":{\"outlinewidth\":0,\"ticks\":\"\"}}],\"scatter\":[{\"fillpattern\":{\"fillmode\":\"overlay\",\"size\":10,\"solidity\":0.2},\"type\":\"scatter\"}],\"parcoords\":[{\"type\":\"parcoords\",\"line\":{\"colorbar\":{\"outlinewidth\":0,\"ticks\":\"\"}}}],\"scatterpolargl\":[{\"type\":\"scatterpolargl\",\"marker\":{\"colorbar\":{\"outlinewidth\":0,\"ticks\":\"\"}}}],\"bar\":[{\"error_x\":{\"color\":\"#2a3f5f\"},\"error_y\":{\"color\":\"#2a3f5f\"},\"marker\":{\"line\":{\"color\":\"#E5ECF6\",\"width\":0.5},\"pattern\":{\"fillmode\":\"overlay\",\"size\":10,\"solidity\":0.2}},\"type\":\"bar\"}],\"scattergeo\":[{\"type\":\"scattergeo\",\"marker\":{\"colorbar\":{\"outlinewidth\":0,\"ticks\":\"\"}}}],\"scatterpolar\":[{\"type\":\"scatterpolar\",\"marker\":{\"colorbar\":{\"outlinewidth\":0,\"ticks\":\"\"}}}],\"histogram\":[{\"marker\":{\"pattern\":{\"fillmode\":\"overlay\",\"size\":10,\"solidity\":0.2}},\"type\":\"histogram\"}],\"scattergl\":[{\"type\":\"scattergl\",\"marker\":{\"colorbar\":{\"outlinewidth\":0,\"ticks\":\"\"}}}],\"scatter3d\":[{\"type\":\"scatter3d\",\"line\":{\"colorbar\":{\"outlinewidth\":0,\"ticks\":\"\"}},\"marker\":{\"colorbar\":{\"outlinewidth\":0,\"ticks\":\"\"}}}],\"scattermapbox\":[{\"type\":\"scattermapbox\",\"marker\":{\"colorbar\":{\"outlinewidth\":0,\"ticks\":\"\"}}}],\"scatterternary\":[{\"type\":\"scatterternary\",\"marker\":{\"colorbar\":{\"outlinewidth\":0,\"ticks\":\"\"}}}],\"scattercarpet\":[{\"type\":\"scattercarpet\",\"marker\":{\"colorbar\":{\"outlinewidth\":0,\"ticks\":\"\"}}}],\"carpet\":[{\"aaxis\":{\"endlinecolor\":\"#2a3f5f\",\"gridcolor\":\"white\",\"linecolor\":\"white\",\"minorgridcolor\":\"white\",\"startlinecolor\":\"#2a3f5f\"},\"baxis\":{\"endlinecolor\":\"#2a3f5f\",\"gridcolor\":\"white\",\"linecolor\":\"white\",\"minorgridcolor\":\"white\",\"startlinecolor\":\"#2a3f5f\"},\"type\":\"carpet\"}],\"table\":[{\"cells\":{\"fill\":{\"color\":\"#EBF0F8\"},\"line\":{\"color\":\"white\"}},\"header\":{\"fill\":{\"color\":\"#C8D4E3\"},\"line\":{\"color\":\"white\"}},\"type\":\"table\"}],\"barpolar\":[{\"marker\":{\"line\":{\"color\":\"#E5ECF6\",\"width\":0.5},\"pattern\":{\"fillmode\":\"overlay\",\"size\":10,\"solidity\":0.2}},\"type\":\"barpolar\"}],\"pie\":[{\"automargin\":true,\"type\":\"pie\"}]},\"layout\":{\"autotypenumbers\":\"strict\",\"colorway\":[\"#636efa\",\"#EF553B\",\"#00cc96\",\"#ab63fa\",\"#FFA15A\",\"#19d3f3\",\"#FF6692\",\"#B6E880\",\"#FF97FF\",\"#FECB52\"],\"font\":{\"color\":\"#2a3f5f\"},\"hovermode\":\"closest\",\"hoverlabel\":{\"align\":\"left\"},\"paper_bgcolor\":\"white\",\"plot_bgcolor\":\"#E5ECF6\",\"polar\":{\"bgcolor\":\"#E5ECF6\",\"angularaxis\":{\"gridcolor\":\"white\",\"linecolor\":\"white\",\"ticks\":\"\"},\"radialaxis\":{\"gridcolor\":\"white\",\"linecolor\":\"white\",\"ticks\":\"\"}},\"ternary\":{\"bgcolor\":\"#E5ECF6\",\"aaxis\":{\"gridcolor\":\"white\",\"linecolor\":\"white\",\"ticks\":\"\"},\"baxis\":{\"gridcolor\":\"white\",\"linecolor\":\"white\",\"ticks\":\"\"},\"caxis\":{\"gridcolor\":\"white\",\"linecolor\":\"white\",\"ticks\":\"\"}},\"coloraxis\":{\"colorbar\":{\"outlinewidth\":0,\"ticks\":\"\"}},\"colorscale\":{\"sequential\":[[0.0,\"#0d0887\"],[0.1111111111111111,\"#46039f\"],[0.2222222222222222,\"#7201a8\"],[0.3333333333333333,\"#9c179e\"],[0.4444444444444444,\"#bd3786\"],[0.5555555555555556,\"#d8576b\"],[0.6666666666666666,\"#ed7953\"],[0.7777777777777778,\"#fb9f3a\"],[0.8888888888888888,\"#fdca26\"],[1.0,\"#f0f921\"]],\"sequentialminus\":[[0.0,\"#0d0887\"],[0.1111111111111111,\"#46039f\"],[0.2222222222222222,\"#7201a8\"],[0.3333333333333333,\"#9c179e\"],[0.4444444444444444,\"#bd3786\"],[0.5555555555555556,\"#d8576b\"],[0.6666666666666666,\"#ed7953\"],[0.7777777777777778,\"#fb9f3a\"],[0.8888888888888888,\"#fdca26\"],[1.0,\"#f0f921\"]],\"diverging\":[[0,\"#8e0152\"],[0.1,\"#c51b7d\"],[0.2,\"#de77ae\"],[0.3,\"#f1b6da\"],[0.4,\"#fde0ef\"],[0.5,\"#f7f7f7\"],[0.6,\"#e6f5d0\"],[0.7,\"#b8e186\"],[0.8,\"#7fbc41\"],[0.9,\"#4d9221\"],[1,\"#276419\"]]},\"xaxis\":{\"gridcolor\":\"white\",\"linecolor\":\"white\",\"ticks\":\"\",\"title\":{\"standoff\":15},\"zerolinecolor\":\"white\",\"automargin\":true,\"zerolinewidth\":2},\"yaxis\":{\"gridcolor\":\"white\",\"linecolor\":\"white\",\"ticks\":\"\",\"title\":{\"standoff\":15},\"zerolinecolor\":\"white\",\"automargin\":true,\"zerolinewidth\":2},\"scene\":{\"xaxis\":{\"backgroundcolor\":\"#E5ECF6\",\"gridcolor\":\"white\",\"linecolor\":\"white\",\"showbackground\":true,\"ticks\":\"\",\"zerolinecolor\":\"white\",\"gridwidth\":2},\"yaxis\":{\"backgroundcolor\":\"#E5ECF6\",\"gridcolor\":\"white\",\"linecolor\":\"white\",\"showbackground\":true,\"ticks\":\"\",\"zerolinecolor\":\"white\",\"gridwidth\":2},\"zaxis\":{\"backgroundcolor\":\"#E5ECF6\",\"gridcolor\":\"white\",\"linecolor\":\"white\",\"showbackground\":true,\"ticks\":\"\",\"zerolinecolor\":\"white\",\"gridwidth\":2}},\"shapedefaults\":{\"line\":{\"color\":\"#2a3f5f\"}},\"annotationdefaults\":{\"arrowcolor\":\"#2a3f5f\",\"arrowhead\":0,\"arrowwidth\":1},\"geo\":{\"bgcolor\":\"white\",\"landcolor\":\"#E5ECF6\",\"subunitcolor\":\"white\",\"showland\":true,\"showlakes\":true,\"lakecolor\":\"white\"},\"title\":{\"x\":0.05},\"mapbox\":{\"style\":\"light\"}}},\"legend\":{\"tracegroupgap\":0},\"title\":{\"text\":\"Distribution of Breed\"},\"piecolorway\":[\"#e2d9e2\",\"#9ebbc9\",\"#6785be\",\"#5e43a5\",\"#421257\",\"#471340\",\"#8e2c50\",\"#ba6657\",\"#ceac94\",\"#e2d9e2\"],\"height\":500,\"width\":700},                        {\"responsive\": true}                    ).then(function(){\n",
       "                            \n",
       "var gd = document.getElementById('fd46ea0f-19d4-48f2-98e9-60b42cca85bf');\n",
       "var x = new MutationObserver(function (mutations, observer) {{\n",
       "        var display = window.getComputedStyle(gd).display;\n",
       "        if (!display || display === 'none') {{\n",
       "            console.log([gd, 'removed!']);\n",
       "            Plotly.purge(gd);\n",
       "            observer.disconnect();\n",
       "        }}\n",
       "}});\n",
       "\n",
       "// Listen for the removal of the full notebook cells\n",
       "var notebookContainer = gd.closest('#notebook-container');\n",
       "if (notebookContainer) {{\n",
       "    x.observe(notebookContainer, {childList: true});\n",
       "}}\n",
       "\n",
       "// Listen for the clearing of the current output cell\n",
       "var outputEl = gd.closest('.output');\n",
       "if (outputEl) {{\n",
       "    x.observe(outputEl, {childList: true});\n",
       "}}\n",
       "\n",
       "                        })                };                });            </script>        </div>"
      ]
     },
     "metadata": {},
     "output_type": "display_data"
    }
   ],
   "source": [
    "breed_type = data.groupby([\"Breed\"]).size().reset_index(name=\"counts\")\n",
    "\n",
    "fig = px.pie(\n",
    "    breed_type,\n",
    "    names=\"Breed\",\n",
    "    values=\"counts\",\n",
    "    color_discrete_sequence=px.colors.cyclical.Twilight,\n",
    "    title=\"Distribution of Breed\",\n",
    "    height=500,\n",
    "    width=700,\n",
    ")\n",
    "fig.show()"
   ]
  },
  {
   "cell_type": "markdown",
   "metadata": {},
   "source": [
    "#### Pet type and adoption"
   ]
  },
  {
   "cell_type": "code",
   "execution_count": 43,
   "metadata": {},
   "outputs": [
    {
     "data": {
      "application/vnd.plotly.v1+json": {
       "config": {
        "plotlyServerURL": "https://plot.ly"
       },
       "data": [
        {
         "alignmentgroup": "True",
         "bingroup": "x",
         "hovertemplate": "AdoptionLikelihood=0<br>PetType=%{x}<br>count=%{y}<extra></extra>",
         "legendgroup": "0",
         "marker": {
          "color": "#636efa",
          "pattern": {
           "shape": ""
          }
         },
         "name": "0",
         "offsetgroup": "0",
         "orientation": "v",
         "showlegend": true,
         "type": "histogram",
         "x": [
          "Bird",
          "Rabbit",
          "Dog",
          "Bird",
          "Rabbit",
          "Dog",
          "Bird",
          "Bird",
          "Bird",
          "Bird",
          "Dog",
          "Cat",
          "Rabbit",
          "Cat",
          "Rabbit",
          "Dog",
          "Rabbit",
          "Cat",
          "Dog",
          "Bird",
          "Bird",
          "Cat",
          "Rabbit",
          "Rabbit",
          "Rabbit",
          "Cat",
          "Bird",
          "Rabbit",
          "Bird",
          "Rabbit",
          "Rabbit",
          "Dog",
          "Cat",
          "Dog",
          "Dog",
          "Dog",
          "Rabbit",
          "Bird",
          "Rabbit",
          "Bird",
          "Rabbit",
          "Bird",
          "Cat",
          "Rabbit",
          "Cat",
          "Rabbit",
          "Cat",
          "Cat",
          "Cat",
          "Bird",
          "Cat",
          "Rabbit",
          "Cat",
          "Cat",
          "Bird",
          "Rabbit",
          "Cat",
          "Rabbit",
          "Dog",
          "Rabbit",
          "Cat",
          "Bird",
          "Dog",
          "Rabbit",
          "Rabbit",
          "Bird",
          "Bird",
          "Bird",
          "Dog",
          "Bird",
          "Dog",
          "Dog",
          "Bird",
          "Cat",
          "Rabbit",
          "Dog",
          "Dog",
          "Bird",
          "Cat",
          "Dog",
          "Cat",
          "Bird",
          "Dog",
          "Dog",
          "Cat",
          "Cat",
          "Bird",
          "Bird",
          "Cat",
          "Rabbit",
          "Dog",
          "Rabbit",
          "Rabbit",
          "Bird",
          "Bird",
          "Dog",
          "Rabbit",
          "Bird",
          "Bird",
          "Bird",
          "Cat",
          "Cat",
          "Dog",
          "Cat",
          "Rabbit",
          "Rabbit",
          "Rabbit",
          "Rabbit",
          "Cat",
          "Rabbit",
          "Cat",
          "Bird",
          "Rabbit",
          "Dog",
          "Bird",
          "Bird",
          "Cat",
          "Bird",
          "Cat",
          "Rabbit",
          "Bird",
          "Cat",
          "Rabbit",
          "Rabbit",
          "Cat",
          "Cat",
          "Cat",
          "Cat",
          "Cat",
          "Dog",
          "Cat",
          "Dog",
          "Rabbit",
          "Bird",
          "Rabbit",
          "Bird",
          "Rabbit",
          "Bird",
          "Dog",
          "Dog",
          "Cat",
          "Bird",
          "Rabbit",
          "Rabbit",
          "Rabbit",
          "Cat",
          "Dog",
          "Rabbit",
          "Rabbit",
          "Bird",
          "Rabbit",
          "Bird",
          "Bird",
          "Rabbit",
          "Rabbit",
          "Bird",
          "Rabbit",
          "Rabbit",
          "Rabbit",
          "Bird",
          "Dog",
          "Dog",
          "Cat",
          "Bird",
          "Bird",
          "Rabbit",
          "Cat",
          "Dog",
          "Cat",
          "Rabbit",
          "Bird",
          "Bird",
          "Bird",
          "Bird",
          "Rabbit",
          "Bird",
          "Rabbit",
          "Cat",
          "Dog",
          "Dog",
          "Rabbit",
          "Cat",
          "Rabbit",
          "Cat",
          "Bird",
          "Cat",
          "Cat",
          "Bird",
          "Rabbit",
          "Dog",
          "Rabbit",
          "Rabbit",
          "Rabbit",
          "Rabbit",
          "Rabbit",
          "Bird",
          "Bird",
          "Rabbit",
          "Rabbit",
          "Bird",
          "Bird",
          "Cat",
          "Cat",
          "Bird",
          "Cat",
          "Bird",
          "Cat",
          "Cat",
          "Rabbit",
          "Bird",
          "Rabbit",
          "Rabbit",
          "Rabbit",
          "Bird",
          "Rabbit",
          "Dog",
          "Rabbit",
          "Rabbit",
          "Cat",
          "Cat",
          "Cat",
          "Rabbit",
          "Rabbit",
          "Dog",
          "Bird",
          "Rabbit",
          "Rabbit",
          "Dog",
          "Cat",
          "Cat",
          "Cat",
          "Bird",
          "Cat",
          "Cat",
          "Bird",
          "Cat",
          "Rabbit",
          "Bird",
          "Cat",
          "Bird",
          "Dog",
          "Bird",
          "Cat",
          "Rabbit",
          "Bird",
          "Rabbit",
          "Dog",
          "Rabbit",
          "Bird",
          "Bird",
          "Bird",
          "Rabbit",
          "Cat",
          "Rabbit",
          "Bird",
          "Bird",
          "Cat",
          "Dog",
          "Cat",
          "Cat",
          "Dog",
          "Cat",
          "Cat",
          "Dog",
          "Rabbit",
          "Dog",
          "Bird",
          "Cat",
          "Rabbit",
          "Cat",
          "Rabbit",
          "Dog",
          "Rabbit",
          "Cat",
          "Dog",
          "Bird",
          "Cat",
          "Cat",
          "Cat",
          "Cat",
          "Cat",
          "Bird",
          "Cat",
          "Cat",
          "Rabbit",
          "Dog",
          "Rabbit",
          "Bird",
          "Dog",
          "Dog",
          "Rabbit",
          "Cat",
          "Bird",
          "Dog",
          "Cat",
          "Cat",
          "Dog",
          "Cat",
          "Dog",
          "Dog",
          "Cat",
          "Bird",
          "Cat",
          "Cat",
          "Rabbit",
          "Cat",
          "Cat",
          "Bird",
          "Cat",
          "Dog",
          "Cat",
          "Rabbit",
          "Rabbit",
          "Dog",
          "Dog",
          "Rabbit",
          "Cat",
          "Rabbit",
          "Dog",
          "Rabbit",
          "Bird",
          "Cat",
          "Dog",
          "Cat",
          "Bird",
          "Rabbit",
          "Dog",
          "Bird",
          "Dog",
          "Rabbit",
          "Cat",
          "Dog",
          "Dog",
          "Rabbit",
          "Bird",
          "Cat",
          "Bird",
          "Rabbit",
          "Bird",
          "Cat",
          "Dog",
          "Dog",
          "Rabbit",
          "Dog",
          "Dog",
          "Bird",
          "Rabbit",
          "Rabbit",
          "Bird",
          "Cat",
          "Rabbit",
          "Bird",
          "Rabbit",
          "Dog",
          "Rabbit",
          "Dog",
          "Bird",
          "Cat",
          "Cat",
          "Bird",
          "Dog",
          "Bird",
          "Rabbit",
          "Cat",
          "Cat",
          "Cat",
          "Rabbit",
          "Cat",
          "Cat",
          "Dog",
          "Bird",
          "Rabbit",
          "Rabbit",
          "Cat",
          "Dog",
          "Bird",
          "Rabbit",
          "Rabbit",
          "Cat",
          "Bird",
          "Bird",
          "Dog",
          "Bird",
          "Cat",
          "Bird",
          "Bird",
          "Cat",
          "Dog",
          "Cat",
          "Cat",
          "Rabbit",
          "Rabbit",
          "Rabbit",
          "Dog",
          "Dog",
          "Dog",
          "Dog",
          "Dog",
          "Dog",
          "Dog",
          "Bird",
          "Rabbit",
          "Dog",
          "Cat",
          "Bird",
          "Bird",
          "Dog",
          "Cat",
          "Rabbit",
          "Rabbit",
          "Cat",
          "Rabbit",
          "Rabbit",
          "Dog",
          "Rabbit",
          "Rabbit",
          "Cat",
          "Cat",
          "Cat",
          "Rabbit",
          "Dog",
          "Rabbit",
          "Rabbit",
          "Bird",
          "Cat",
          "Rabbit",
          "Bird",
          "Dog",
          "Cat",
          "Rabbit",
          "Dog",
          "Dog",
          "Cat",
          "Bird",
          "Dog",
          "Dog",
          "Rabbit",
          "Bird",
          "Dog",
          "Bird",
          "Bird",
          "Bird",
          "Rabbit",
          "Cat",
          "Dog",
          "Dog",
          "Cat",
          "Bird",
          "Dog",
          "Rabbit",
          "Bird",
          "Rabbit",
          "Bird",
          "Cat",
          "Cat",
          "Bird",
          "Cat",
          "Dog",
          "Rabbit",
          "Dog",
          "Rabbit",
          "Bird",
          "Bird",
          "Bird",
          "Cat",
          "Rabbit",
          "Cat",
          "Cat",
          "Bird",
          "Bird",
          "Bird",
          "Bird",
          "Dog",
          "Dog",
          "Rabbit",
          "Cat",
          "Cat",
          "Rabbit",
          "Dog",
          "Dog",
          "Bird",
          "Bird",
          "Rabbit",
          "Bird",
          "Bird",
          "Dog",
          "Bird",
          "Rabbit",
          "Bird",
          "Rabbit",
          "Rabbit",
          "Rabbit",
          "Dog",
          "Bird",
          "Dog",
          "Bird",
          "Bird",
          "Cat",
          "Cat",
          "Cat",
          "Dog",
          "Rabbit",
          "Cat",
          "Dog",
          "Dog",
          "Dog",
          "Dog",
          "Bird",
          "Rabbit",
          "Cat",
          "Bird",
          "Rabbit",
          "Dog",
          "Bird",
          "Dog",
          "Bird",
          "Bird",
          "Rabbit",
          "Cat",
          "Cat",
          "Bird",
          "Cat",
          "Cat",
          "Cat",
          "Bird",
          "Bird",
          "Bird",
          "Bird",
          "Bird",
          "Bird",
          "Cat",
          "Bird",
          "Rabbit",
          "Dog",
          "Cat",
          "Bird",
          "Rabbit",
          "Dog",
          "Dog",
          "Bird",
          "Bird",
          "Cat",
          "Dog",
          "Rabbit",
          "Cat",
          "Rabbit",
          "Bird",
          "Rabbit",
          "Rabbit",
          "Cat",
          "Dog",
          "Rabbit",
          "Rabbit",
          "Bird",
          "Dog",
          "Cat",
          "Cat",
          "Rabbit",
          "Rabbit",
          "Cat",
          "Cat",
          "Rabbit",
          "Bird",
          "Dog",
          "Bird",
          "Dog",
          "Cat",
          "Rabbit",
          "Rabbit",
          "Rabbit",
          "Bird",
          "Cat",
          "Dog",
          "Rabbit",
          "Cat",
          "Cat",
          "Cat",
          "Rabbit",
          "Cat",
          "Cat",
          "Cat",
          "Bird",
          "Rabbit",
          "Rabbit",
          "Cat",
          "Cat",
          "Dog",
          "Bird",
          "Cat",
          "Cat",
          "Bird",
          "Cat",
          "Cat",
          "Rabbit",
          "Cat",
          "Dog",
          "Bird",
          "Rabbit",
          "Bird",
          "Cat",
          "Cat",
          "Rabbit",
          "Dog",
          "Dog",
          "Rabbit",
          "Bird",
          "Bird",
          "Dog",
          "Rabbit",
          "Rabbit",
          "Dog",
          "Cat",
          "Cat",
          "Dog",
          "Bird",
          "Cat",
          "Dog",
          "Rabbit",
          "Rabbit",
          "Dog",
          "Bird",
          "Bird",
          "Bird",
          "Bird",
          "Cat",
          "Dog",
          "Bird",
          "Bird",
          "Cat",
          "Bird",
          "Bird",
          "Bird",
          "Rabbit",
          "Cat",
          "Bird",
          "Dog",
          "Bird",
          "Rabbit",
          "Dog",
          "Dog",
          "Bird",
          "Bird",
          "Dog",
          "Rabbit",
          "Bird",
          "Cat",
          "Cat",
          "Rabbit",
          "Dog",
          "Dog",
          "Rabbit",
          "Dog",
          "Bird",
          "Bird",
          "Bird",
          "Rabbit",
          "Rabbit",
          "Cat",
          "Bird",
          "Dog",
          "Cat",
          "Rabbit",
          "Cat",
          "Rabbit",
          "Bird",
          "Bird",
          "Cat",
          "Rabbit",
          "Cat",
          "Rabbit",
          "Cat",
          "Dog",
          "Bird",
          "Rabbit",
          "Bird",
          "Rabbit",
          "Rabbit",
          "Rabbit",
          "Rabbit",
          "Bird",
          "Cat",
          "Cat",
          "Rabbit",
          "Bird",
          "Bird",
          "Dog",
          "Rabbit",
          "Cat",
          "Dog",
          "Cat",
          "Bird",
          "Rabbit",
          "Bird",
          "Dog",
          "Bird",
          "Rabbit",
          "Dog",
          "Bird",
          "Cat",
          "Cat",
          "Dog",
          "Bird",
          "Bird",
          "Bird",
          "Cat",
          "Rabbit",
          "Cat",
          "Rabbit",
          "Dog",
          "Dog",
          "Bird",
          "Cat",
          "Rabbit",
          "Dog",
          "Dog",
          "Bird",
          "Dog",
          "Bird",
          "Bird",
          "Rabbit",
          "Bird",
          "Cat",
          "Cat",
          "Dog",
          "Dog",
          "Rabbit",
          "Rabbit",
          "Cat",
          "Bird",
          "Cat",
          "Cat",
          "Dog",
          "Cat",
          "Bird",
          "Rabbit",
          "Bird",
          "Bird",
          "Cat",
          "Rabbit",
          "Dog",
          "Rabbit",
          "Rabbit",
          "Cat",
          "Dog",
          "Bird",
          "Rabbit",
          "Bird",
          "Bird",
          "Bird",
          "Dog",
          "Dog",
          "Bird",
          "Dog",
          "Rabbit",
          "Cat",
          "Rabbit",
          "Rabbit",
          "Cat",
          "Rabbit",
          "Rabbit",
          "Rabbit",
          "Rabbit",
          "Dog",
          "Cat",
          "Cat",
          "Dog",
          "Dog",
          "Rabbit",
          "Dog",
          "Dog",
          "Cat",
          "Bird",
          "Cat",
          "Bird",
          "Rabbit",
          "Rabbit",
          "Dog",
          "Cat",
          "Cat",
          "Rabbit",
          "Bird",
          "Rabbit",
          "Cat",
          "Rabbit",
          "Rabbit",
          "Dog",
          "Cat",
          "Cat",
          "Rabbit",
          "Dog",
          "Bird",
          "Dog",
          "Dog",
          "Bird",
          "Dog",
          "Cat",
          "Cat",
          "Cat",
          "Cat",
          "Rabbit",
          "Cat",
          "Bird",
          "Dog",
          "Cat",
          "Dog",
          "Cat",
          "Rabbit",
          "Cat",
          "Dog",
          "Dog",
          "Cat",
          "Rabbit",
          "Cat",
          "Cat",
          "Dog",
          "Dog",
          "Dog",
          "Rabbit",
          "Rabbit",
          "Bird",
          "Rabbit",
          "Cat",
          "Bird",
          "Rabbit",
          "Cat",
          "Cat",
          "Bird",
          "Rabbit",
          "Bird",
          "Bird",
          "Rabbit",
          "Bird",
          "Dog",
          "Cat",
          "Dog",
          "Cat",
          "Bird",
          "Bird",
          "Bird",
          "Cat",
          "Rabbit",
          "Bird",
          "Cat",
          "Cat",
          "Dog",
          "Bird",
          "Dog",
          "Dog",
          "Rabbit",
          "Cat",
          "Rabbit",
          "Rabbit",
          "Bird",
          "Bird",
          "Dog",
          "Dog",
          "Dog",
          "Bird",
          "Cat",
          "Rabbit",
          "Cat",
          "Bird",
          "Dog",
          "Cat",
          "Cat",
          "Bird",
          "Cat",
          "Dog",
          "Rabbit",
          "Rabbit",
          "Cat",
          "Bird",
          "Dog",
          "Bird",
          "Cat",
          "Bird",
          "Cat",
          "Cat",
          "Dog",
          "Bird",
          "Rabbit",
          "Rabbit",
          "Dog",
          "Bird",
          "Dog",
          "Rabbit",
          "Cat",
          "Rabbit",
          "Bird",
          "Bird",
          "Cat",
          "Dog",
          "Cat",
          "Cat",
          "Bird",
          "Cat",
          "Cat",
          "Bird",
          "Cat",
          "Bird",
          "Cat",
          "Dog",
          "Cat",
          "Rabbit",
          "Dog",
          "Cat",
          "Bird",
          "Bird",
          "Dog",
          "Rabbit",
          "Cat",
          "Rabbit",
          "Cat",
          "Rabbit",
          "Cat",
          "Rabbit",
          "Rabbit",
          "Bird",
          "Rabbit",
          "Cat",
          "Rabbit",
          "Bird",
          "Cat",
          "Cat",
          "Bird",
          "Rabbit",
          "Rabbit",
          "Bird",
          "Rabbit",
          "Rabbit",
          "Cat",
          "Dog",
          "Cat",
          "Cat",
          "Dog",
          "Bird",
          "Cat",
          "Dog",
          "Bird",
          "Bird",
          "Bird",
          "Rabbit",
          "Dog",
          "Cat",
          "Cat",
          "Rabbit",
          "Bird",
          "Rabbit",
          "Bird",
          "Cat",
          "Dog",
          "Rabbit",
          "Cat",
          "Cat",
          "Dog",
          "Bird",
          "Dog",
          "Rabbit",
          "Cat",
          "Bird",
          "Rabbit",
          "Dog",
          "Bird",
          "Bird",
          "Cat",
          "Bird",
          "Cat",
          "Bird",
          "Dog",
          "Cat",
          "Rabbit",
          "Dog",
          "Rabbit",
          "Dog",
          "Rabbit",
          "Bird",
          "Dog",
          "Rabbit",
          "Rabbit",
          "Rabbit",
          "Dog",
          "Bird",
          "Rabbit",
          "Bird",
          "Dog",
          "Dog",
          "Rabbit",
          "Bird",
          "Cat",
          "Bird",
          "Dog",
          "Bird",
          "Cat",
          "Rabbit",
          "Bird",
          "Dog",
          "Bird",
          "Bird",
          "Cat",
          "Cat",
          "Rabbit",
          "Bird",
          "Cat",
          "Dog",
          "Dog",
          "Rabbit",
          "Rabbit",
          "Dog",
          "Rabbit",
          "Cat",
          "Cat",
          "Cat",
          "Rabbit",
          "Cat",
          "Rabbit",
          "Rabbit",
          "Bird",
          "Cat",
          "Dog",
          "Rabbit",
          "Rabbit",
          "Rabbit",
          "Cat",
          "Rabbit",
          "Cat",
          "Rabbit",
          "Cat",
          "Bird",
          "Dog",
          "Bird",
          "Dog",
          "Dog",
          "Dog",
          "Bird",
          "Bird",
          "Rabbit",
          "Bird",
          "Cat",
          "Cat",
          "Bird",
          "Bird",
          "Bird",
          "Dog",
          "Bird",
          "Rabbit",
          "Rabbit",
          "Cat",
          "Cat",
          "Cat",
          "Bird",
          "Rabbit",
          "Rabbit",
          "Rabbit",
          "Dog",
          "Rabbit",
          "Cat",
          "Bird",
          "Rabbit",
          "Cat",
          "Bird",
          "Rabbit",
          "Rabbit",
          "Cat",
          "Rabbit",
          "Rabbit",
          "Rabbit",
          "Cat",
          "Dog",
          "Bird",
          "Cat",
          "Rabbit",
          "Bird",
          "Bird",
          "Rabbit",
          "Rabbit",
          "Rabbit",
          "Cat",
          "Dog",
          "Dog",
          "Rabbit",
          "Rabbit",
          "Rabbit",
          "Dog",
          "Rabbit",
          "Dog",
          "Cat",
          "Cat",
          "Rabbit",
          "Bird",
          "Rabbit",
          "Rabbit",
          "Dog",
          "Cat",
          "Cat",
          "Bird",
          "Bird",
          "Cat",
          "Dog",
          "Dog",
          "Cat",
          "Rabbit",
          "Rabbit",
          "Bird",
          "Rabbit",
          "Rabbit",
          "Dog",
          "Rabbit",
          "Rabbit",
          "Cat",
          "Dog",
          "Dog",
          "Cat",
          "Dog",
          "Cat",
          "Cat",
          "Bird",
          "Cat",
          "Cat",
          "Cat",
          "Bird",
          "Rabbit",
          "Dog",
          "Dog",
          "Cat",
          "Cat",
          "Bird",
          "Bird",
          "Rabbit",
          "Dog",
          "Rabbit",
          "Rabbit",
          "Rabbit",
          "Cat",
          "Cat",
          "Cat",
          "Bird",
          "Bird",
          "Bird",
          "Rabbit",
          "Cat",
          "Cat",
          "Bird",
          "Bird",
          "Bird",
          "Dog",
          "Cat",
          "Rabbit",
          "Rabbit",
          "Dog",
          "Cat",
          "Bird",
          "Cat",
          "Rabbit",
          "Bird",
          "Rabbit",
          "Cat",
          "Cat",
          "Cat",
          "Rabbit",
          "Dog",
          "Rabbit",
          "Bird",
          "Dog",
          "Dog",
          "Rabbit",
          "Dog",
          "Cat",
          "Rabbit",
          "Dog",
          "Cat",
          "Bird",
          "Rabbit",
          "Dog",
          "Rabbit",
          "Rabbit",
          "Cat",
          "Bird",
          "Cat",
          "Dog",
          "Rabbit",
          "Dog",
          "Cat",
          "Rabbit",
          "Rabbit",
          "Cat",
          "Cat",
          "Cat",
          "Cat",
          "Dog",
          "Dog",
          "Cat",
          "Dog",
          "Bird",
          "Cat",
          "Bird",
          "Dog",
          "Bird",
          "Bird",
          "Bird",
          "Cat",
          "Rabbit",
          "Cat",
          "Cat",
          "Rabbit",
          "Rabbit",
          "Bird",
          "Rabbit",
          "Rabbit",
          "Cat",
          "Rabbit",
          "Dog",
          "Dog",
          "Rabbit",
          "Rabbit",
          "Bird",
          "Bird",
          "Cat",
          "Bird",
          "Cat",
          "Dog",
          "Dog",
          "Dog",
          "Bird",
          "Bird",
          "Cat",
          "Dog",
          "Dog",
          "Rabbit",
          "Bird",
          "Bird",
          "Cat",
          "Dog",
          "Rabbit",
          "Bird",
          "Bird",
          "Cat",
          "Cat",
          "Bird",
          "Rabbit",
          "Cat",
          "Rabbit",
          "Cat",
          "Rabbit",
          "Bird",
          "Rabbit",
          "Dog",
          "Rabbit",
          "Dog",
          "Cat",
          "Bird",
          "Bird",
          "Cat",
          "Cat",
          "Cat",
          "Dog",
          "Bird",
          "Rabbit",
          "Dog",
          "Dog",
          "Rabbit",
          "Dog",
          "Bird",
          "Rabbit",
          "Cat",
          "Rabbit",
          "Rabbit",
          "Cat",
          "Dog",
          "Dog",
          "Bird",
          "Rabbit",
          "Rabbit",
          "Cat",
          "Cat",
          "Bird",
          "Dog",
          "Bird",
          "Dog",
          "Rabbit",
          "Dog",
          "Cat",
          "Bird",
          "Cat",
          "Rabbit",
          "Dog",
          "Dog",
          "Rabbit",
          "Dog",
          "Rabbit",
          "Bird",
          "Bird",
          "Cat",
          "Cat",
          "Bird",
          "Bird",
          "Bird",
          "Bird",
          "Dog",
          "Rabbit",
          "Dog",
          "Dog",
          "Cat",
          "Dog",
          "Rabbit",
          "Cat",
          "Cat",
          "Bird",
          "Bird",
          "Bird",
          "Rabbit",
          "Dog",
          "Rabbit",
          "Rabbit",
          "Rabbit",
          "Dog",
          "Bird",
          "Dog",
          "Dog",
          "Rabbit",
          "Dog",
          "Cat",
          "Rabbit",
          "Rabbit",
          "Bird",
          "Rabbit",
          "Cat",
          "Rabbit",
          "Cat",
          "Cat",
          "Rabbit",
          "Cat",
          "Dog",
          "Bird",
          "Bird",
          "Rabbit",
          "Bird",
          "Dog",
          "Cat",
          "Bird",
          "Bird",
          "Rabbit",
          "Cat",
          "Rabbit",
          "Cat",
          "Rabbit",
          "Rabbit",
          "Dog",
          "Rabbit"
         ],
         "xaxis": "x",
         "yaxis": "y"
        },
        {
         "alignmentgroup": "True",
         "bingroup": "x",
         "hovertemplate": "AdoptionLikelihood=1<br>PetType=%{x}<br>count=%{y}<extra></extra>",
         "legendgroup": "1",
         "marker": {
          "color": "#EF553B",
          "pattern": {
           "shape": ""
          }
         },
         "name": "1",
         "offsetgroup": "1",
         "orientation": "v",
         "showlegend": true,
         "type": "histogram",
         "x": [
          "Cat",
          "Rabbit",
          "Cat",
          "Cat",
          "Dog",
          "Bird",
          "Cat",
          "Dog",
          "Bird",
          "Dog",
          "Bird",
          "Cat",
          "Rabbit",
          "Dog",
          "Cat",
          "Cat",
          "Rabbit",
          "Dog",
          "Dog",
          "Dog",
          "Dog",
          "Dog",
          "Dog",
          "Rabbit",
          "Bird",
          "Rabbit",
          "Rabbit",
          "Dog",
          "Cat",
          "Bird",
          "Dog",
          "Bird",
          "Rabbit",
          "Bird",
          "Dog",
          "Cat",
          "Bird",
          "Dog",
          "Dog",
          "Cat",
          "Bird",
          "Rabbit",
          "Dog",
          "Dog",
          "Cat",
          "Bird",
          "Dog",
          "Dog",
          "Bird",
          "Dog",
          "Rabbit",
          "Cat",
          "Dog",
          "Dog",
          "Bird",
          "Dog",
          "Dog",
          "Cat",
          "Bird",
          "Cat",
          "Bird",
          "Dog",
          "Bird",
          "Cat",
          "Bird",
          "Dog",
          "Cat",
          "Rabbit",
          "Cat",
          "Bird",
          "Rabbit",
          "Cat",
          "Dog",
          "Rabbit",
          "Dog",
          "Rabbit",
          "Rabbit",
          "Rabbit",
          "Dog",
          "Cat",
          "Dog",
          "Cat",
          "Rabbit",
          "Dog",
          "Cat",
          "Cat",
          "Bird",
          "Dog",
          "Dog",
          "Dog",
          "Cat",
          "Bird",
          "Dog",
          "Dog",
          "Bird",
          "Rabbit",
          "Cat",
          "Bird",
          "Rabbit",
          "Cat",
          "Cat",
          "Dog",
          "Cat",
          "Dog",
          "Dog",
          "Cat",
          "Bird",
          "Cat",
          "Rabbit",
          "Rabbit",
          "Rabbit",
          "Bird",
          "Bird",
          "Rabbit",
          "Rabbit",
          "Bird",
          "Rabbit",
          "Bird",
          "Dog",
          "Dog",
          "Rabbit",
          "Dog",
          "Dog",
          "Bird",
          "Dog",
          "Dog",
          "Dog",
          "Rabbit",
          "Rabbit",
          "Bird",
          "Dog",
          "Rabbit",
          "Rabbit",
          "Rabbit",
          "Bird",
          "Rabbit",
          "Rabbit",
          "Cat",
          "Dog",
          "Bird",
          "Dog",
          "Dog",
          "Cat",
          "Cat",
          "Cat",
          "Bird",
          "Dog",
          "Dog",
          "Rabbit",
          "Dog",
          "Rabbit",
          "Rabbit",
          "Rabbit",
          "Dog",
          "Bird",
          "Dog",
          "Dog",
          "Cat",
          "Dog",
          "Dog",
          "Rabbit",
          "Dog",
          "Cat",
          "Rabbit",
          "Dog",
          "Dog",
          "Bird",
          "Dog",
          "Cat",
          "Bird",
          "Cat",
          "Dog",
          "Dog",
          "Cat",
          "Dog",
          "Dog",
          "Dog",
          "Bird",
          "Dog",
          "Dog",
          "Dog",
          "Rabbit",
          "Dog",
          "Rabbit",
          "Dog",
          "Cat",
          "Dog",
          "Rabbit",
          "Bird",
          "Dog",
          "Cat",
          "Bird",
          "Dog",
          "Rabbit",
          "Rabbit",
          "Dog",
          "Dog",
          "Dog",
          "Dog",
          "Cat",
          "Bird",
          "Dog",
          "Rabbit",
          "Dog",
          "Dog",
          "Bird",
          "Dog",
          "Dog",
          "Dog",
          "Dog",
          "Bird",
          "Dog",
          "Bird",
          "Dog",
          "Bird",
          "Dog",
          "Dog",
          "Cat",
          "Cat",
          "Dog",
          "Rabbit",
          "Cat",
          "Cat",
          "Dog",
          "Cat",
          "Bird",
          "Dog",
          "Bird",
          "Bird",
          "Bird",
          "Cat",
          "Cat",
          "Cat",
          "Dog",
          "Dog",
          "Dog",
          "Cat",
          "Dog",
          "Bird",
          "Bird",
          "Cat",
          "Rabbit",
          "Rabbit",
          "Rabbit",
          "Bird",
          "Dog",
          "Dog",
          "Cat",
          "Cat",
          "Cat",
          "Cat",
          "Dog",
          "Rabbit",
          "Bird",
          "Bird",
          "Dog",
          "Cat",
          "Dog",
          "Cat",
          "Dog",
          "Bird",
          "Cat",
          "Dog",
          "Cat",
          "Cat",
          "Dog",
          "Dog",
          "Bird",
          "Cat",
          "Bird",
          "Bird",
          "Rabbit",
          "Bird",
          "Bird",
          "Dog",
          "Dog",
          "Bird",
          "Dog",
          "Cat",
          "Bird",
          "Rabbit",
          "Dog",
          "Dog",
          "Dog",
          "Bird",
          "Cat",
          "Dog",
          "Cat",
          "Dog",
          "Dog",
          "Cat",
          "Cat",
          "Cat",
          "Bird",
          "Cat",
          "Bird",
          "Dog",
          "Dog",
          "Dog",
          "Rabbit",
          "Bird",
          "Rabbit",
          "Cat",
          "Dog",
          "Cat",
          "Cat",
          "Dog",
          "Bird",
          "Dog",
          "Rabbit",
          "Bird",
          "Bird",
          "Rabbit",
          "Rabbit",
          "Dog",
          "Rabbit",
          "Bird",
          "Cat",
          "Rabbit",
          "Dog",
          "Dog",
          "Dog",
          "Cat",
          "Bird",
          "Dog",
          "Dog",
          "Rabbit",
          "Dog",
          "Cat",
          "Bird",
          "Bird",
          "Cat",
          "Rabbit",
          "Dog",
          "Cat",
          "Dog",
          "Cat",
          "Dog",
          "Bird",
          "Cat",
          "Bird",
          "Cat",
          "Bird",
          "Dog",
          "Bird",
          "Rabbit",
          "Bird",
          "Cat",
          "Bird",
          "Dog",
          "Dog",
          "Cat",
          "Dog",
          "Bird",
          "Bird",
          "Rabbit",
          "Rabbit",
          "Dog",
          "Cat",
          "Bird",
          "Cat",
          "Bird",
          "Rabbit",
          "Dog",
          "Dog",
          "Cat",
          "Dog",
          "Rabbit",
          "Dog",
          "Dog",
          "Cat",
          "Dog",
          "Rabbit",
          "Bird",
          "Dog",
          "Dog",
          "Cat",
          "Cat",
          "Rabbit",
          "Bird",
          "Dog",
          "Bird",
          "Bird",
          "Dog",
          "Dog",
          "Bird",
          "Cat",
          "Dog",
          "Dog",
          "Dog",
          "Rabbit",
          "Rabbit",
          "Bird",
          "Dog",
          "Dog",
          "Bird",
          "Dog",
          "Rabbit",
          "Cat",
          "Dog",
          "Bird",
          "Dog",
          "Bird",
          "Rabbit",
          "Bird",
          "Bird",
          "Rabbit",
          "Dog",
          "Dog",
          "Bird",
          "Dog",
          "Rabbit",
          "Bird",
          "Bird",
          "Dog",
          "Dog",
          "Rabbit",
          "Dog",
          "Cat",
          "Bird",
          "Dog",
          "Dog",
          "Dog",
          "Dog",
          "Rabbit",
          "Cat",
          "Dog",
          "Bird",
          "Bird",
          "Cat",
          "Dog",
          "Bird",
          "Cat",
          "Rabbit",
          "Dog",
          "Cat",
          "Cat",
          "Rabbit",
          "Dog",
          "Rabbit",
          "Dog",
          "Bird",
          "Rabbit",
          "Dog",
          "Dog",
          "Dog",
          "Cat",
          "Rabbit",
          "Cat",
          "Dog",
          "Bird",
          "Rabbit",
          "Dog",
          "Bird",
          "Dog",
          "Dog",
          "Bird",
          "Dog",
          "Bird",
          "Dog",
          "Cat",
          "Rabbit",
          "Bird",
          "Dog",
          "Dog",
          "Cat",
          "Bird",
          "Cat",
          "Rabbit",
          "Bird",
          "Cat",
          "Dog",
          "Dog",
          "Bird",
          "Bird",
          "Dog",
          "Rabbit",
          "Dog",
          "Bird",
          "Dog",
          "Bird",
          "Dog",
          "Cat",
          "Dog",
          "Rabbit",
          "Rabbit",
          "Bird",
          "Dog",
          "Dog",
          "Cat",
          "Cat",
          "Dog",
          "Dog",
          "Bird",
          "Dog",
          "Rabbit",
          "Dog",
          "Dog",
          "Cat",
          "Rabbit",
          "Dog",
          "Bird",
          "Bird",
          "Bird",
          "Rabbit",
          "Rabbit",
          "Cat",
          "Bird",
          "Dog",
          "Dog",
          "Bird",
          "Dog",
          "Rabbit",
          "Bird",
          "Cat",
          "Cat",
          "Bird",
          "Dog",
          "Rabbit",
          "Rabbit",
          "Rabbit",
          "Rabbit",
          "Dog",
          "Cat",
          "Cat",
          "Cat",
          "Dog",
          "Dog",
          "Cat",
          "Dog",
          "Cat",
          "Bird",
          "Bird",
          "Cat",
          "Dog",
          "Rabbit",
          "Dog",
          "Bird",
          "Cat",
          "Cat",
          "Dog",
          "Dog",
          "Dog",
          "Dog",
          "Rabbit",
          "Rabbit",
          "Dog",
          "Dog",
          "Cat",
          "Cat",
          "Dog",
          "Dog",
          "Bird",
          "Bird",
          "Rabbit",
          "Rabbit",
          "Cat",
          "Dog",
          "Cat",
          "Rabbit",
          "Rabbit",
          "Bird",
          "Dog",
          "Cat",
          "Rabbit",
          "Cat",
          "Dog",
          "Rabbit",
          "Dog",
          "Dog",
          "Cat",
          "Cat",
          "Cat",
          "Cat",
          "Dog",
          "Bird",
          "Dog",
          "Dog",
          "Dog",
          "Bird",
          "Dog",
          "Rabbit",
          "Dog",
          "Rabbit",
          "Bird",
          "Rabbit",
          "Cat",
          "Cat",
          "Bird",
          "Dog",
          "Rabbit",
          "Cat",
          "Rabbit",
          "Cat",
          "Rabbit",
          "Rabbit",
          "Bird",
          "Rabbit",
          "Bird",
          "Dog",
          "Rabbit",
          "Bird",
          "Dog",
          "Bird",
          "Bird",
          "Cat",
          "Cat",
          "Rabbit",
          "Rabbit",
          "Bird",
          "Rabbit",
          "Cat",
          "Dog",
          "Dog",
          "Bird",
          "Rabbit",
          "Cat",
          "Dog",
          "Bird",
          "Dog",
          "Rabbit",
          "Cat",
          "Cat",
          "Rabbit",
          "Rabbit",
          "Bird",
          "Cat",
          "Dog",
          "Cat",
          "Dog",
          "Rabbit",
          "Dog",
          "Bird",
          "Dog",
          "Rabbit",
          "Rabbit",
          "Bird",
          "Cat",
          "Bird",
          "Bird",
          "Dog",
          "Bird",
          "Dog",
          "Cat",
          "Rabbit",
          "Cat",
          "Cat",
          "Cat",
          "Bird",
          "Dog",
          "Bird",
          "Cat",
          "Dog",
          "Dog",
          "Bird",
          "Rabbit",
          "Cat",
          "Bird",
          "Dog"
         ],
         "xaxis": "x",
         "yaxis": "y"
        }
       ],
       "layout": {
        "barmode": "relative",
        "legend": {
         "title": {
          "text": "AdoptionLikelihood"
         },
         "tracegroupgap": 0
        },
        "template": {
         "data": {
          "bar": [
           {
            "error_x": {
             "color": "#2a3f5f"
            },
            "error_y": {
             "color": "#2a3f5f"
            },
            "marker": {
             "line": {
              "color": "#E5ECF6",
              "width": 0.5
             },
             "pattern": {
              "fillmode": "overlay",
              "size": 10,
              "solidity": 0.2
             }
            },
            "type": "bar"
           }
          ],
          "barpolar": [
           {
            "marker": {
             "line": {
              "color": "#E5ECF6",
              "width": 0.5
             },
             "pattern": {
              "fillmode": "overlay",
              "size": 10,
              "solidity": 0.2
             }
            },
            "type": "barpolar"
           }
          ],
          "carpet": [
           {
            "aaxis": {
             "endlinecolor": "#2a3f5f",
             "gridcolor": "white",
             "linecolor": "white",
             "minorgridcolor": "white",
             "startlinecolor": "#2a3f5f"
            },
            "baxis": {
             "endlinecolor": "#2a3f5f",
             "gridcolor": "white",
             "linecolor": "white",
             "minorgridcolor": "white",
             "startlinecolor": "#2a3f5f"
            },
            "type": "carpet"
           }
          ],
          "choropleth": [
           {
            "colorbar": {
             "outlinewidth": 0,
             "ticks": ""
            },
            "type": "choropleth"
           }
          ],
          "contour": [
           {
            "colorbar": {
             "outlinewidth": 0,
             "ticks": ""
            },
            "colorscale": [
             [
              0,
              "#0d0887"
             ],
             [
              0.1111111111111111,
              "#46039f"
             ],
             [
              0.2222222222222222,
              "#7201a8"
             ],
             [
              0.3333333333333333,
              "#9c179e"
             ],
             [
              0.4444444444444444,
              "#bd3786"
             ],
             [
              0.5555555555555556,
              "#d8576b"
             ],
             [
              0.6666666666666666,
              "#ed7953"
             ],
             [
              0.7777777777777778,
              "#fb9f3a"
             ],
             [
              0.8888888888888888,
              "#fdca26"
             ],
             [
              1,
              "#f0f921"
             ]
            ],
            "type": "contour"
           }
          ],
          "contourcarpet": [
           {
            "colorbar": {
             "outlinewidth": 0,
             "ticks": ""
            },
            "type": "contourcarpet"
           }
          ],
          "heatmap": [
           {
            "colorbar": {
             "outlinewidth": 0,
             "ticks": ""
            },
            "colorscale": [
             [
              0,
              "#0d0887"
             ],
             [
              0.1111111111111111,
              "#46039f"
             ],
             [
              0.2222222222222222,
              "#7201a8"
             ],
             [
              0.3333333333333333,
              "#9c179e"
             ],
             [
              0.4444444444444444,
              "#bd3786"
             ],
             [
              0.5555555555555556,
              "#d8576b"
             ],
             [
              0.6666666666666666,
              "#ed7953"
             ],
             [
              0.7777777777777778,
              "#fb9f3a"
             ],
             [
              0.8888888888888888,
              "#fdca26"
             ],
             [
              1,
              "#f0f921"
             ]
            ],
            "type": "heatmap"
           }
          ],
          "heatmapgl": [
           {
            "colorbar": {
             "outlinewidth": 0,
             "ticks": ""
            },
            "colorscale": [
             [
              0,
              "#0d0887"
             ],
             [
              0.1111111111111111,
              "#46039f"
             ],
             [
              0.2222222222222222,
              "#7201a8"
             ],
             [
              0.3333333333333333,
              "#9c179e"
             ],
             [
              0.4444444444444444,
              "#bd3786"
             ],
             [
              0.5555555555555556,
              "#d8576b"
             ],
             [
              0.6666666666666666,
              "#ed7953"
             ],
             [
              0.7777777777777778,
              "#fb9f3a"
             ],
             [
              0.8888888888888888,
              "#fdca26"
             ],
             [
              1,
              "#f0f921"
             ]
            ],
            "type": "heatmapgl"
           }
          ],
          "histogram": [
           {
            "marker": {
             "pattern": {
              "fillmode": "overlay",
              "size": 10,
              "solidity": 0.2
             }
            },
            "type": "histogram"
           }
          ],
          "histogram2d": [
           {
            "colorbar": {
             "outlinewidth": 0,
             "ticks": ""
            },
            "colorscale": [
             [
              0,
              "#0d0887"
             ],
             [
              0.1111111111111111,
              "#46039f"
             ],
             [
              0.2222222222222222,
              "#7201a8"
             ],
             [
              0.3333333333333333,
              "#9c179e"
             ],
             [
              0.4444444444444444,
              "#bd3786"
             ],
             [
              0.5555555555555556,
              "#d8576b"
             ],
             [
              0.6666666666666666,
              "#ed7953"
             ],
             [
              0.7777777777777778,
              "#fb9f3a"
             ],
             [
              0.8888888888888888,
              "#fdca26"
             ],
             [
              1,
              "#f0f921"
             ]
            ],
            "type": "histogram2d"
           }
          ],
          "histogram2dcontour": [
           {
            "colorbar": {
             "outlinewidth": 0,
             "ticks": ""
            },
            "colorscale": [
             [
              0,
              "#0d0887"
             ],
             [
              0.1111111111111111,
              "#46039f"
             ],
             [
              0.2222222222222222,
              "#7201a8"
             ],
             [
              0.3333333333333333,
              "#9c179e"
             ],
             [
              0.4444444444444444,
              "#bd3786"
             ],
             [
              0.5555555555555556,
              "#d8576b"
             ],
             [
              0.6666666666666666,
              "#ed7953"
             ],
             [
              0.7777777777777778,
              "#fb9f3a"
             ],
             [
              0.8888888888888888,
              "#fdca26"
             ],
             [
              1,
              "#f0f921"
             ]
            ],
            "type": "histogram2dcontour"
           }
          ],
          "mesh3d": [
           {
            "colorbar": {
             "outlinewidth": 0,
             "ticks": ""
            },
            "type": "mesh3d"
           }
          ],
          "parcoords": [
           {
            "line": {
             "colorbar": {
              "outlinewidth": 0,
              "ticks": ""
             }
            },
            "type": "parcoords"
           }
          ],
          "pie": [
           {
            "automargin": true,
            "type": "pie"
           }
          ],
          "scatter": [
           {
            "fillpattern": {
             "fillmode": "overlay",
             "size": 10,
             "solidity": 0.2
            },
            "type": "scatter"
           }
          ],
          "scatter3d": [
           {
            "line": {
             "colorbar": {
              "outlinewidth": 0,
              "ticks": ""
             }
            },
            "marker": {
             "colorbar": {
              "outlinewidth": 0,
              "ticks": ""
             }
            },
            "type": "scatter3d"
           }
          ],
          "scattercarpet": [
           {
            "marker": {
             "colorbar": {
              "outlinewidth": 0,
              "ticks": ""
             }
            },
            "type": "scattercarpet"
           }
          ],
          "scattergeo": [
           {
            "marker": {
             "colorbar": {
              "outlinewidth": 0,
              "ticks": ""
             }
            },
            "type": "scattergeo"
           }
          ],
          "scattergl": [
           {
            "marker": {
             "colorbar": {
              "outlinewidth": 0,
              "ticks": ""
             }
            },
            "type": "scattergl"
           }
          ],
          "scattermapbox": [
           {
            "marker": {
             "colorbar": {
              "outlinewidth": 0,
              "ticks": ""
             }
            },
            "type": "scattermapbox"
           }
          ],
          "scatterpolar": [
           {
            "marker": {
             "colorbar": {
              "outlinewidth": 0,
              "ticks": ""
             }
            },
            "type": "scatterpolar"
           }
          ],
          "scatterpolargl": [
           {
            "marker": {
             "colorbar": {
              "outlinewidth": 0,
              "ticks": ""
             }
            },
            "type": "scatterpolargl"
           }
          ],
          "scatterternary": [
           {
            "marker": {
             "colorbar": {
              "outlinewidth": 0,
              "ticks": ""
             }
            },
            "type": "scatterternary"
           }
          ],
          "surface": [
           {
            "colorbar": {
             "outlinewidth": 0,
             "ticks": ""
            },
            "colorscale": [
             [
              0,
              "#0d0887"
             ],
             [
              0.1111111111111111,
              "#46039f"
             ],
             [
              0.2222222222222222,
              "#7201a8"
             ],
             [
              0.3333333333333333,
              "#9c179e"
             ],
             [
              0.4444444444444444,
              "#bd3786"
             ],
             [
              0.5555555555555556,
              "#d8576b"
             ],
             [
              0.6666666666666666,
              "#ed7953"
             ],
             [
              0.7777777777777778,
              "#fb9f3a"
             ],
             [
              0.8888888888888888,
              "#fdca26"
             ],
             [
              1,
              "#f0f921"
             ]
            ],
            "type": "surface"
           }
          ],
          "table": [
           {
            "cells": {
             "fill": {
              "color": "#EBF0F8"
             },
             "line": {
              "color": "white"
             }
            },
            "header": {
             "fill": {
              "color": "#C8D4E3"
             },
             "line": {
              "color": "white"
             }
            },
            "type": "table"
           }
          ]
         },
         "layout": {
          "annotationdefaults": {
           "arrowcolor": "#2a3f5f",
           "arrowhead": 0,
           "arrowwidth": 1
          },
          "autotypenumbers": "strict",
          "coloraxis": {
           "colorbar": {
            "outlinewidth": 0,
            "ticks": ""
           }
          },
          "colorscale": {
           "diverging": [
            [
             0,
             "#8e0152"
            ],
            [
             0.1,
             "#c51b7d"
            ],
            [
             0.2,
             "#de77ae"
            ],
            [
             0.3,
             "#f1b6da"
            ],
            [
             0.4,
             "#fde0ef"
            ],
            [
             0.5,
             "#f7f7f7"
            ],
            [
             0.6,
             "#e6f5d0"
            ],
            [
             0.7,
             "#b8e186"
            ],
            [
             0.8,
             "#7fbc41"
            ],
            [
             0.9,
             "#4d9221"
            ],
            [
             1,
             "#276419"
            ]
           ],
           "sequential": [
            [
             0,
             "#0d0887"
            ],
            [
             0.1111111111111111,
             "#46039f"
            ],
            [
             0.2222222222222222,
             "#7201a8"
            ],
            [
             0.3333333333333333,
             "#9c179e"
            ],
            [
             0.4444444444444444,
             "#bd3786"
            ],
            [
             0.5555555555555556,
             "#d8576b"
            ],
            [
             0.6666666666666666,
             "#ed7953"
            ],
            [
             0.7777777777777778,
             "#fb9f3a"
            ],
            [
             0.8888888888888888,
             "#fdca26"
            ],
            [
             1,
             "#f0f921"
            ]
           ],
           "sequentialminus": [
            [
             0,
             "#0d0887"
            ],
            [
             0.1111111111111111,
             "#46039f"
            ],
            [
             0.2222222222222222,
             "#7201a8"
            ],
            [
             0.3333333333333333,
             "#9c179e"
            ],
            [
             0.4444444444444444,
             "#bd3786"
            ],
            [
             0.5555555555555556,
             "#d8576b"
            ],
            [
             0.6666666666666666,
             "#ed7953"
            ],
            [
             0.7777777777777778,
             "#fb9f3a"
            ],
            [
             0.8888888888888888,
             "#fdca26"
            ],
            [
             1,
             "#f0f921"
            ]
           ]
          },
          "colorway": [
           "#636efa",
           "#EF553B",
           "#00cc96",
           "#ab63fa",
           "#FFA15A",
           "#19d3f3",
           "#FF6692",
           "#B6E880",
           "#FF97FF",
           "#FECB52"
          ],
          "font": {
           "color": "#2a3f5f"
          },
          "geo": {
           "bgcolor": "white",
           "lakecolor": "white",
           "landcolor": "#E5ECF6",
           "showlakes": true,
           "showland": true,
           "subunitcolor": "white"
          },
          "hoverlabel": {
           "align": "left"
          },
          "hovermode": "closest",
          "mapbox": {
           "style": "light"
          },
          "paper_bgcolor": "white",
          "plot_bgcolor": "#E5ECF6",
          "polar": {
           "angularaxis": {
            "gridcolor": "white",
            "linecolor": "white",
            "ticks": ""
           },
           "bgcolor": "#E5ECF6",
           "radialaxis": {
            "gridcolor": "white",
            "linecolor": "white",
            "ticks": ""
           }
          },
          "scene": {
           "xaxis": {
            "backgroundcolor": "#E5ECF6",
            "gridcolor": "white",
            "gridwidth": 2,
            "linecolor": "white",
            "showbackground": true,
            "ticks": "",
            "zerolinecolor": "white"
           },
           "yaxis": {
            "backgroundcolor": "#E5ECF6",
            "gridcolor": "white",
            "gridwidth": 2,
            "linecolor": "white",
            "showbackground": true,
            "ticks": "",
            "zerolinecolor": "white"
           },
           "zaxis": {
            "backgroundcolor": "#E5ECF6",
            "gridcolor": "white",
            "gridwidth": 2,
            "linecolor": "white",
            "showbackground": true,
            "ticks": "",
            "zerolinecolor": "white"
           }
          },
          "shapedefaults": {
           "line": {
            "color": "#2a3f5f"
           }
          },
          "ternary": {
           "aaxis": {
            "gridcolor": "white",
            "linecolor": "white",
            "ticks": ""
           },
           "baxis": {
            "gridcolor": "white",
            "linecolor": "white",
            "ticks": ""
           },
           "bgcolor": "#E5ECF6",
           "caxis": {
            "gridcolor": "white",
            "linecolor": "white",
            "ticks": ""
           }
          },
          "title": {
           "x": 0.05
          },
          "xaxis": {
           "automargin": true,
           "gridcolor": "white",
           "linecolor": "white",
           "ticks": "",
           "title": {
            "standoff": 15
           },
           "zerolinecolor": "white",
           "zerolinewidth": 2
          },
          "yaxis": {
           "automargin": true,
           "gridcolor": "white",
           "linecolor": "white",
           "ticks": "",
           "title": {
            "standoff": 15
           },
           "zerolinecolor": "white",
           "zerolinewidth": 2
          }
         }
        },
        "title": {
         "text": "Distribution of Breed"
        },
        "xaxis": {
         "anchor": "y",
         "domain": [
          0,
          1
         ],
         "title": {
          "text": "PetType"
         }
        },
        "yaxis": {
         "anchor": "x",
         "domain": [
          0,
          1
         ],
         "title": {
          "text": "count"
         }
        }
       }
      },
      "text/html": [
       "<div>                            <div id=\"74ee9765-52ab-49a9-a062-3491bf31c31a\" class=\"plotly-graph-div\" style=\"height:525px; width:100%;\"></div>            <script type=\"text/javascript\">                require([\"plotly\"], function(Plotly) {                    window.PLOTLYENV=window.PLOTLYENV || {};                                    if (document.getElementById(\"74ee9765-52ab-49a9-a062-3491bf31c31a\")) {                    Plotly.newPlot(                        \"74ee9765-52ab-49a9-a062-3491bf31c31a\",                        [{\"alignmentgroup\":\"True\",\"bingroup\":\"x\",\"hovertemplate\":\"AdoptionLikelihood=0\\u003cbr\\u003ePetType=%{x}\\u003cbr\\u003ecount=%{y}\\u003cextra\\u003e\\u003c\\u002fextra\\u003e\",\"legendgroup\":\"0\",\"marker\":{\"color\":\"#636efa\",\"pattern\":{\"shape\":\"\"}},\"name\":\"0\",\"offsetgroup\":\"0\",\"orientation\":\"v\",\"showlegend\":true,\"x\":[\"Bird\",\"Rabbit\",\"Dog\",\"Bird\",\"Rabbit\",\"Dog\",\"Bird\",\"Bird\",\"Bird\",\"Bird\",\"Dog\",\"Cat\",\"Rabbit\",\"Cat\",\"Rabbit\",\"Dog\",\"Rabbit\",\"Cat\",\"Dog\",\"Bird\",\"Bird\",\"Cat\",\"Rabbit\",\"Rabbit\",\"Rabbit\",\"Cat\",\"Bird\",\"Rabbit\",\"Bird\",\"Rabbit\",\"Rabbit\",\"Dog\",\"Cat\",\"Dog\",\"Dog\",\"Dog\",\"Rabbit\",\"Bird\",\"Rabbit\",\"Bird\",\"Rabbit\",\"Bird\",\"Cat\",\"Rabbit\",\"Cat\",\"Rabbit\",\"Cat\",\"Cat\",\"Cat\",\"Bird\",\"Cat\",\"Rabbit\",\"Cat\",\"Cat\",\"Bird\",\"Rabbit\",\"Cat\",\"Rabbit\",\"Dog\",\"Rabbit\",\"Cat\",\"Bird\",\"Dog\",\"Rabbit\",\"Rabbit\",\"Bird\",\"Bird\",\"Bird\",\"Dog\",\"Bird\",\"Dog\",\"Dog\",\"Bird\",\"Cat\",\"Rabbit\",\"Dog\",\"Dog\",\"Bird\",\"Cat\",\"Dog\",\"Cat\",\"Bird\",\"Dog\",\"Dog\",\"Cat\",\"Cat\",\"Bird\",\"Bird\",\"Cat\",\"Rabbit\",\"Dog\",\"Rabbit\",\"Rabbit\",\"Bird\",\"Bird\",\"Dog\",\"Rabbit\",\"Bird\",\"Bird\",\"Bird\",\"Cat\",\"Cat\",\"Dog\",\"Cat\",\"Rabbit\",\"Rabbit\",\"Rabbit\",\"Rabbit\",\"Cat\",\"Rabbit\",\"Cat\",\"Bird\",\"Rabbit\",\"Dog\",\"Bird\",\"Bird\",\"Cat\",\"Bird\",\"Cat\",\"Rabbit\",\"Bird\",\"Cat\",\"Rabbit\",\"Rabbit\",\"Cat\",\"Cat\",\"Cat\",\"Cat\",\"Cat\",\"Dog\",\"Cat\",\"Dog\",\"Rabbit\",\"Bird\",\"Rabbit\",\"Bird\",\"Rabbit\",\"Bird\",\"Dog\",\"Dog\",\"Cat\",\"Bird\",\"Rabbit\",\"Rabbit\",\"Rabbit\",\"Cat\",\"Dog\",\"Rabbit\",\"Rabbit\",\"Bird\",\"Rabbit\",\"Bird\",\"Bird\",\"Rabbit\",\"Rabbit\",\"Bird\",\"Rabbit\",\"Rabbit\",\"Rabbit\",\"Bird\",\"Dog\",\"Dog\",\"Cat\",\"Bird\",\"Bird\",\"Rabbit\",\"Cat\",\"Dog\",\"Cat\",\"Rabbit\",\"Bird\",\"Bird\",\"Bird\",\"Bird\",\"Rabbit\",\"Bird\",\"Rabbit\",\"Cat\",\"Dog\",\"Dog\",\"Rabbit\",\"Cat\",\"Rabbit\",\"Cat\",\"Bird\",\"Cat\",\"Cat\",\"Bird\",\"Rabbit\",\"Dog\",\"Rabbit\",\"Rabbit\",\"Rabbit\",\"Rabbit\",\"Rabbit\",\"Bird\",\"Bird\",\"Rabbit\",\"Rabbit\",\"Bird\",\"Bird\",\"Cat\",\"Cat\",\"Bird\",\"Cat\",\"Bird\",\"Cat\",\"Cat\",\"Rabbit\",\"Bird\",\"Rabbit\",\"Rabbit\",\"Rabbit\",\"Bird\",\"Rabbit\",\"Dog\",\"Rabbit\",\"Rabbit\",\"Cat\",\"Cat\",\"Cat\",\"Rabbit\",\"Rabbit\",\"Dog\",\"Bird\",\"Rabbit\",\"Rabbit\",\"Dog\",\"Cat\",\"Cat\",\"Cat\",\"Bird\",\"Cat\",\"Cat\",\"Bird\",\"Cat\",\"Rabbit\",\"Bird\",\"Cat\",\"Bird\",\"Dog\",\"Bird\",\"Cat\",\"Rabbit\",\"Bird\",\"Rabbit\",\"Dog\",\"Rabbit\",\"Bird\",\"Bird\",\"Bird\",\"Rabbit\",\"Cat\",\"Rabbit\",\"Bird\",\"Bird\",\"Cat\",\"Dog\",\"Cat\",\"Cat\",\"Dog\",\"Cat\",\"Cat\",\"Dog\",\"Rabbit\",\"Dog\",\"Bird\",\"Cat\",\"Rabbit\",\"Cat\",\"Rabbit\",\"Dog\",\"Rabbit\",\"Cat\",\"Dog\",\"Bird\",\"Cat\",\"Cat\",\"Cat\",\"Cat\",\"Cat\",\"Bird\",\"Cat\",\"Cat\",\"Rabbit\",\"Dog\",\"Rabbit\",\"Bird\",\"Dog\",\"Dog\",\"Rabbit\",\"Cat\",\"Bird\",\"Dog\",\"Cat\",\"Cat\",\"Dog\",\"Cat\",\"Dog\",\"Dog\",\"Cat\",\"Bird\",\"Cat\",\"Cat\",\"Rabbit\",\"Cat\",\"Cat\",\"Bird\",\"Cat\",\"Dog\",\"Cat\",\"Rabbit\",\"Rabbit\",\"Dog\",\"Dog\",\"Rabbit\",\"Cat\",\"Rabbit\",\"Dog\",\"Rabbit\",\"Bird\",\"Cat\",\"Dog\",\"Cat\",\"Bird\",\"Rabbit\",\"Dog\",\"Bird\",\"Dog\",\"Rabbit\",\"Cat\",\"Dog\",\"Dog\",\"Rabbit\",\"Bird\",\"Cat\",\"Bird\",\"Rabbit\",\"Bird\",\"Cat\",\"Dog\",\"Dog\",\"Rabbit\",\"Dog\",\"Dog\",\"Bird\",\"Rabbit\",\"Rabbit\",\"Bird\",\"Cat\",\"Rabbit\",\"Bird\",\"Rabbit\",\"Dog\",\"Rabbit\",\"Dog\",\"Bird\",\"Cat\",\"Cat\",\"Bird\",\"Dog\",\"Bird\",\"Rabbit\",\"Cat\",\"Cat\",\"Cat\",\"Rabbit\",\"Cat\",\"Cat\",\"Dog\",\"Bird\",\"Rabbit\",\"Rabbit\",\"Cat\",\"Dog\",\"Bird\",\"Rabbit\",\"Rabbit\",\"Cat\",\"Bird\",\"Bird\",\"Dog\",\"Bird\",\"Cat\",\"Bird\",\"Bird\",\"Cat\",\"Dog\",\"Cat\",\"Cat\",\"Rabbit\",\"Rabbit\",\"Rabbit\",\"Dog\",\"Dog\",\"Dog\",\"Dog\",\"Dog\",\"Dog\",\"Dog\",\"Bird\",\"Rabbit\",\"Dog\",\"Cat\",\"Bird\",\"Bird\",\"Dog\",\"Cat\",\"Rabbit\",\"Rabbit\",\"Cat\",\"Rabbit\",\"Rabbit\",\"Dog\",\"Rabbit\",\"Rabbit\",\"Cat\",\"Cat\",\"Cat\",\"Rabbit\",\"Dog\",\"Rabbit\",\"Rabbit\",\"Bird\",\"Cat\",\"Rabbit\",\"Bird\",\"Dog\",\"Cat\",\"Rabbit\",\"Dog\",\"Dog\",\"Cat\",\"Bird\",\"Dog\",\"Dog\",\"Rabbit\",\"Bird\",\"Dog\",\"Bird\",\"Bird\",\"Bird\",\"Rabbit\",\"Cat\",\"Dog\",\"Dog\",\"Cat\",\"Bird\",\"Dog\",\"Rabbit\",\"Bird\",\"Rabbit\",\"Bird\",\"Cat\",\"Cat\",\"Bird\",\"Cat\",\"Dog\",\"Rabbit\",\"Dog\",\"Rabbit\",\"Bird\",\"Bird\",\"Bird\",\"Cat\",\"Rabbit\",\"Cat\",\"Cat\",\"Bird\",\"Bird\",\"Bird\",\"Bird\",\"Dog\",\"Dog\",\"Rabbit\",\"Cat\",\"Cat\",\"Rabbit\",\"Dog\",\"Dog\",\"Bird\",\"Bird\",\"Rabbit\",\"Bird\",\"Bird\",\"Dog\",\"Bird\",\"Rabbit\",\"Bird\",\"Rabbit\",\"Rabbit\",\"Rabbit\",\"Dog\",\"Bird\",\"Dog\",\"Bird\",\"Bird\",\"Cat\",\"Cat\",\"Cat\",\"Dog\",\"Rabbit\",\"Cat\",\"Dog\",\"Dog\",\"Dog\",\"Dog\",\"Bird\",\"Rabbit\",\"Cat\",\"Bird\",\"Rabbit\",\"Dog\",\"Bird\",\"Dog\",\"Bird\",\"Bird\",\"Rabbit\",\"Cat\",\"Cat\",\"Bird\",\"Cat\",\"Cat\",\"Cat\",\"Bird\",\"Bird\",\"Bird\",\"Bird\",\"Bird\",\"Bird\",\"Cat\",\"Bird\",\"Rabbit\",\"Dog\",\"Cat\",\"Bird\",\"Rabbit\",\"Dog\",\"Dog\",\"Bird\",\"Bird\",\"Cat\",\"Dog\",\"Rabbit\",\"Cat\",\"Rabbit\",\"Bird\",\"Rabbit\",\"Rabbit\",\"Cat\",\"Dog\",\"Rabbit\",\"Rabbit\",\"Bird\",\"Dog\",\"Cat\",\"Cat\",\"Rabbit\",\"Rabbit\",\"Cat\",\"Cat\",\"Rabbit\",\"Bird\",\"Dog\",\"Bird\",\"Dog\",\"Cat\",\"Rabbit\",\"Rabbit\",\"Rabbit\",\"Bird\",\"Cat\",\"Dog\",\"Rabbit\",\"Cat\",\"Cat\",\"Cat\",\"Rabbit\",\"Cat\",\"Cat\",\"Cat\",\"Bird\",\"Rabbit\",\"Rabbit\",\"Cat\",\"Cat\",\"Dog\",\"Bird\",\"Cat\",\"Cat\",\"Bird\",\"Cat\",\"Cat\",\"Rabbit\",\"Cat\",\"Dog\",\"Bird\",\"Rabbit\",\"Bird\",\"Cat\",\"Cat\",\"Rabbit\",\"Dog\",\"Dog\",\"Rabbit\",\"Bird\",\"Bird\",\"Dog\",\"Rabbit\",\"Rabbit\",\"Dog\",\"Cat\",\"Cat\",\"Dog\",\"Bird\",\"Cat\",\"Dog\",\"Rabbit\",\"Rabbit\",\"Dog\",\"Bird\",\"Bird\",\"Bird\",\"Bird\",\"Cat\",\"Dog\",\"Bird\",\"Bird\",\"Cat\",\"Bird\",\"Bird\",\"Bird\",\"Rabbit\",\"Cat\",\"Bird\",\"Dog\",\"Bird\",\"Rabbit\",\"Dog\",\"Dog\",\"Bird\",\"Bird\",\"Dog\",\"Rabbit\",\"Bird\",\"Cat\",\"Cat\",\"Rabbit\",\"Dog\",\"Dog\",\"Rabbit\",\"Dog\",\"Bird\",\"Bird\",\"Bird\",\"Rabbit\",\"Rabbit\",\"Cat\",\"Bird\",\"Dog\",\"Cat\",\"Rabbit\",\"Cat\",\"Rabbit\",\"Bird\",\"Bird\",\"Cat\",\"Rabbit\",\"Cat\",\"Rabbit\",\"Cat\",\"Dog\",\"Bird\",\"Rabbit\",\"Bird\",\"Rabbit\",\"Rabbit\",\"Rabbit\",\"Rabbit\",\"Bird\",\"Cat\",\"Cat\",\"Rabbit\",\"Bird\",\"Bird\",\"Dog\",\"Rabbit\",\"Cat\",\"Dog\",\"Cat\",\"Bird\",\"Rabbit\",\"Bird\",\"Dog\",\"Bird\",\"Rabbit\",\"Dog\",\"Bird\",\"Cat\",\"Cat\",\"Dog\",\"Bird\",\"Bird\",\"Bird\",\"Cat\",\"Rabbit\",\"Cat\",\"Rabbit\",\"Dog\",\"Dog\",\"Bird\",\"Cat\",\"Rabbit\",\"Dog\",\"Dog\",\"Bird\",\"Dog\",\"Bird\",\"Bird\",\"Rabbit\",\"Bird\",\"Cat\",\"Cat\",\"Dog\",\"Dog\",\"Rabbit\",\"Rabbit\",\"Cat\",\"Bird\",\"Cat\",\"Cat\",\"Dog\",\"Cat\",\"Bird\",\"Rabbit\",\"Bird\",\"Bird\",\"Cat\",\"Rabbit\",\"Dog\",\"Rabbit\",\"Rabbit\",\"Cat\",\"Dog\",\"Bird\",\"Rabbit\",\"Bird\",\"Bird\",\"Bird\",\"Dog\",\"Dog\",\"Bird\",\"Dog\",\"Rabbit\",\"Cat\",\"Rabbit\",\"Rabbit\",\"Cat\",\"Rabbit\",\"Rabbit\",\"Rabbit\",\"Rabbit\",\"Dog\",\"Cat\",\"Cat\",\"Dog\",\"Dog\",\"Rabbit\",\"Dog\",\"Dog\",\"Cat\",\"Bird\",\"Cat\",\"Bird\",\"Rabbit\",\"Rabbit\",\"Dog\",\"Cat\",\"Cat\",\"Rabbit\",\"Bird\",\"Rabbit\",\"Cat\",\"Rabbit\",\"Rabbit\",\"Dog\",\"Cat\",\"Cat\",\"Rabbit\",\"Dog\",\"Bird\",\"Dog\",\"Dog\",\"Bird\",\"Dog\",\"Cat\",\"Cat\",\"Cat\",\"Cat\",\"Rabbit\",\"Cat\",\"Bird\",\"Dog\",\"Cat\",\"Dog\",\"Cat\",\"Rabbit\",\"Cat\",\"Dog\",\"Dog\",\"Cat\",\"Rabbit\",\"Cat\",\"Cat\",\"Dog\",\"Dog\",\"Dog\",\"Rabbit\",\"Rabbit\",\"Bird\",\"Rabbit\",\"Cat\",\"Bird\",\"Rabbit\",\"Cat\",\"Cat\",\"Bird\",\"Rabbit\",\"Bird\",\"Bird\",\"Rabbit\",\"Bird\",\"Dog\",\"Cat\",\"Dog\",\"Cat\",\"Bird\",\"Bird\",\"Bird\",\"Cat\",\"Rabbit\",\"Bird\",\"Cat\",\"Cat\",\"Dog\",\"Bird\",\"Dog\",\"Dog\",\"Rabbit\",\"Cat\",\"Rabbit\",\"Rabbit\",\"Bird\",\"Bird\",\"Dog\",\"Dog\",\"Dog\",\"Bird\",\"Cat\",\"Rabbit\",\"Cat\",\"Bird\",\"Dog\",\"Cat\",\"Cat\",\"Bird\",\"Cat\",\"Dog\",\"Rabbit\",\"Rabbit\",\"Cat\",\"Bird\",\"Dog\",\"Bird\",\"Cat\",\"Bird\",\"Cat\",\"Cat\",\"Dog\",\"Bird\",\"Rabbit\",\"Rabbit\",\"Dog\",\"Bird\",\"Dog\",\"Rabbit\",\"Cat\",\"Rabbit\",\"Bird\",\"Bird\",\"Cat\",\"Dog\",\"Cat\",\"Cat\",\"Bird\",\"Cat\",\"Cat\",\"Bird\",\"Cat\",\"Bird\",\"Cat\",\"Dog\",\"Cat\",\"Rabbit\",\"Dog\",\"Cat\",\"Bird\",\"Bird\",\"Dog\",\"Rabbit\",\"Cat\",\"Rabbit\",\"Cat\",\"Rabbit\",\"Cat\",\"Rabbit\",\"Rabbit\",\"Bird\",\"Rabbit\",\"Cat\",\"Rabbit\",\"Bird\",\"Cat\",\"Cat\",\"Bird\",\"Rabbit\",\"Rabbit\",\"Bird\",\"Rabbit\",\"Rabbit\",\"Cat\",\"Dog\",\"Cat\",\"Cat\",\"Dog\",\"Bird\",\"Cat\",\"Dog\",\"Bird\",\"Bird\",\"Bird\",\"Rabbit\",\"Dog\",\"Cat\",\"Cat\",\"Rabbit\",\"Bird\",\"Rabbit\",\"Bird\",\"Cat\",\"Dog\",\"Rabbit\",\"Cat\",\"Cat\",\"Dog\",\"Bird\",\"Dog\",\"Rabbit\",\"Cat\",\"Bird\",\"Rabbit\",\"Dog\",\"Bird\",\"Bird\",\"Cat\",\"Bird\",\"Cat\",\"Bird\",\"Dog\",\"Cat\",\"Rabbit\",\"Dog\",\"Rabbit\",\"Dog\",\"Rabbit\",\"Bird\",\"Dog\",\"Rabbit\",\"Rabbit\",\"Rabbit\",\"Dog\",\"Bird\",\"Rabbit\",\"Bird\",\"Dog\",\"Dog\",\"Rabbit\",\"Bird\",\"Cat\",\"Bird\",\"Dog\",\"Bird\",\"Cat\",\"Rabbit\",\"Bird\",\"Dog\",\"Bird\",\"Bird\",\"Cat\",\"Cat\",\"Rabbit\",\"Bird\",\"Cat\",\"Dog\",\"Dog\",\"Rabbit\",\"Rabbit\",\"Dog\",\"Rabbit\",\"Cat\",\"Cat\",\"Cat\",\"Rabbit\",\"Cat\",\"Rabbit\",\"Rabbit\",\"Bird\",\"Cat\",\"Dog\",\"Rabbit\",\"Rabbit\",\"Rabbit\",\"Cat\",\"Rabbit\",\"Cat\",\"Rabbit\",\"Cat\",\"Bird\",\"Dog\",\"Bird\",\"Dog\",\"Dog\",\"Dog\",\"Bird\",\"Bird\",\"Rabbit\",\"Bird\",\"Cat\",\"Cat\",\"Bird\",\"Bird\",\"Bird\",\"Dog\",\"Bird\",\"Rabbit\",\"Rabbit\",\"Cat\",\"Cat\",\"Cat\",\"Bird\",\"Rabbit\",\"Rabbit\",\"Rabbit\",\"Dog\",\"Rabbit\",\"Cat\",\"Bird\",\"Rabbit\",\"Cat\",\"Bird\",\"Rabbit\",\"Rabbit\",\"Cat\",\"Rabbit\",\"Rabbit\",\"Rabbit\",\"Cat\",\"Dog\",\"Bird\",\"Cat\",\"Rabbit\",\"Bird\",\"Bird\",\"Rabbit\",\"Rabbit\",\"Rabbit\",\"Cat\",\"Dog\",\"Dog\",\"Rabbit\",\"Rabbit\",\"Rabbit\",\"Dog\",\"Rabbit\",\"Dog\",\"Cat\",\"Cat\",\"Rabbit\",\"Bird\",\"Rabbit\",\"Rabbit\",\"Dog\",\"Cat\",\"Cat\",\"Bird\",\"Bird\",\"Cat\",\"Dog\",\"Dog\",\"Cat\",\"Rabbit\",\"Rabbit\",\"Bird\",\"Rabbit\",\"Rabbit\",\"Dog\",\"Rabbit\",\"Rabbit\",\"Cat\",\"Dog\",\"Dog\",\"Cat\",\"Dog\",\"Cat\",\"Cat\",\"Bird\",\"Cat\",\"Cat\",\"Cat\",\"Bird\",\"Rabbit\",\"Dog\",\"Dog\",\"Cat\",\"Cat\",\"Bird\",\"Bird\",\"Rabbit\",\"Dog\",\"Rabbit\",\"Rabbit\",\"Rabbit\",\"Cat\",\"Cat\",\"Cat\",\"Bird\",\"Bird\",\"Bird\",\"Rabbit\",\"Cat\",\"Cat\",\"Bird\",\"Bird\",\"Bird\",\"Dog\",\"Cat\",\"Rabbit\",\"Rabbit\",\"Dog\",\"Cat\",\"Bird\",\"Cat\",\"Rabbit\",\"Bird\",\"Rabbit\",\"Cat\",\"Cat\",\"Cat\",\"Rabbit\",\"Dog\",\"Rabbit\",\"Bird\",\"Dog\",\"Dog\",\"Rabbit\",\"Dog\",\"Cat\",\"Rabbit\",\"Dog\",\"Cat\",\"Bird\",\"Rabbit\",\"Dog\",\"Rabbit\",\"Rabbit\",\"Cat\",\"Bird\",\"Cat\",\"Dog\",\"Rabbit\",\"Dog\",\"Cat\",\"Rabbit\",\"Rabbit\",\"Cat\",\"Cat\",\"Cat\",\"Cat\",\"Dog\",\"Dog\",\"Cat\",\"Dog\",\"Bird\",\"Cat\",\"Bird\",\"Dog\",\"Bird\",\"Bird\",\"Bird\",\"Cat\",\"Rabbit\",\"Cat\",\"Cat\",\"Rabbit\",\"Rabbit\",\"Bird\",\"Rabbit\",\"Rabbit\",\"Cat\",\"Rabbit\",\"Dog\",\"Dog\",\"Rabbit\",\"Rabbit\",\"Bird\",\"Bird\",\"Cat\",\"Bird\",\"Cat\",\"Dog\",\"Dog\",\"Dog\",\"Bird\",\"Bird\",\"Cat\",\"Dog\",\"Dog\",\"Rabbit\",\"Bird\",\"Bird\",\"Cat\",\"Dog\",\"Rabbit\",\"Bird\",\"Bird\",\"Cat\",\"Cat\",\"Bird\",\"Rabbit\",\"Cat\",\"Rabbit\",\"Cat\",\"Rabbit\",\"Bird\",\"Rabbit\",\"Dog\",\"Rabbit\",\"Dog\",\"Cat\",\"Bird\",\"Bird\",\"Cat\",\"Cat\",\"Cat\",\"Dog\",\"Bird\",\"Rabbit\",\"Dog\",\"Dog\",\"Rabbit\",\"Dog\",\"Bird\",\"Rabbit\",\"Cat\",\"Rabbit\",\"Rabbit\",\"Cat\",\"Dog\",\"Dog\",\"Bird\",\"Rabbit\",\"Rabbit\",\"Cat\",\"Cat\",\"Bird\",\"Dog\",\"Bird\",\"Dog\",\"Rabbit\",\"Dog\",\"Cat\",\"Bird\",\"Cat\",\"Rabbit\",\"Dog\",\"Dog\",\"Rabbit\",\"Dog\",\"Rabbit\",\"Bird\",\"Bird\",\"Cat\",\"Cat\",\"Bird\",\"Bird\",\"Bird\",\"Bird\",\"Dog\",\"Rabbit\",\"Dog\",\"Dog\",\"Cat\",\"Dog\",\"Rabbit\",\"Cat\",\"Cat\",\"Bird\",\"Bird\",\"Bird\",\"Rabbit\",\"Dog\",\"Rabbit\",\"Rabbit\",\"Rabbit\",\"Dog\",\"Bird\",\"Dog\",\"Dog\",\"Rabbit\",\"Dog\",\"Cat\",\"Rabbit\",\"Rabbit\",\"Bird\",\"Rabbit\",\"Cat\",\"Rabbit\",\"Cat\",\"Cat\",\"Rabbit\",\"Cat\",\"Dog\",\"Bird\",\"Bird\",\"Rabbit\",\"Bird\",\"Dog\",\"Cat\",\"Bird\",\"Bird\",\"Rabbit\",\"Cat\",\"Rabbit\",\"Cat\",\"Rabbit\",\"Rabbit\",\"Dog\",\"Rabbit\"],\"xaxis\":\"x\",\"yaxis\":\"y\",\"type\":\"histogram\"},{\"alignmentgroup\":\"True\",\"bingroup\":\"x\",\"hovertemplate\":\"AdoptionLikelihood=1\\u003cbr\\u003ePetType=%{x}\\u003cbr\\u003ecount=%{y}\\u003cextra\\u003e\\u003c\\u002fextra\\u003e\",\"legendgroup\":\"1\",\"marker\":{\"color\":\"#EF553B\",\"pattern\":{\"shape\":\"\"}},\"name\":\"1\",\"offsetgroup\":\"1\",\"orientation\":\"v\",\"showlegend\":true,\"x\":[\"Cat\",\"Rabbit\",\"Cat\",\"Cat\",\"Dog\",\"Bird\",\"Cat\",\"Dog\",\"Bird\",\"Dog\",\"Bird\",\"Cat\",\"Rabbit\",\"Dog\",\"Cat\",\"Cat\",\"Rabbit\",\"Dog\",\"Dog\",\"Dog\",\"Dog\",\"Dog\",\"Dog\",\"Rabbit\",\"Bird\",\"Rabbit\",\"Rabbit\",\"Dog\",\"Cat\",\"Bird\",\"Dog\",\"Bird\",\"Rabbit\",\"Bird\",\"Dog\",\"Cat\",\"Bird\",\"Dog\",\"Dog\",\"Cat\",\"Bird\",\"Rabbit\",\"Dog\",\"Dog\",\"Cat\",\"Bird\",\"Dog\",\"Dog\",\"Bird\",\"Dog\",\"Rabbit\",\"Cat\",\"Dog\",\"Dog\",\"Bird\",\"Dog\",\"Dog\",\"Cat\",\"Bird\",\"Cat\",\"Bird\",\"Dog\",\"Bird\",\"Cat\",\"Bird\",\"Dog\",\"Cat\",\"Rabbit\",\"Cat\",\"Bird\",\"Rabbit\",\"Cat\",\"Dog\",\"Rabbit\",\"Dog\",\"Rabbit\",\"Rabbit\",\"Rabbit\",\"Dog\",\"Cat\",\"Dog\",\"Cat\",\"Rabbit\",\"Dog\",\"Cat\",\"Cat\",\"Bird\",\"Dog\",\"Dog\",\"Dog\",\"Cat\",\"Bird\",\"Dog\",\"Dog\",\"Bird\",\"Rabbit\",\"Cat\",\"Bird\",\"Rabbit\",\"Cat\",\"Cat\",\"Dog\",\"Cat\",\"Dog\",\"Dog\",\"Cat\",\"Bird\",\"Cat\",\"Rabbit\",\"Rabbit\",\"Rabbit\",\"Bird\",\"Bird\",\"Rabbit\",\"Rabbit\",\"Bird\",\"Rabbit\",\"Bird\",\"Dog\",\"Dog\",\"Rabbit\",\"Dog\",\"Dog\",\"Bird\",\"Dog\",\"Dog\",\"Dog\",\"Rabbit\",\"Rabbit\",\"Bird\",\"Dog\",\"Rabbit\",\"Rabbit\",\"Rabbit\",\"Bird\",\"Rabbit\",\"Rabbit\",\"Cat\",\"Dog\",\"Bird\",\"Dog\",\"Dog\",\"Cat\",\"Cat\",\"Cat\",\"Bird\",\"Dog\",\"Dog\",\"Rabbit\",\"Dog\",\"Rabbit\",\"Rabbit\",\"Rabbit\",\"Dog\",\"Bird\",\"Dog\",\"Dog\",\"Cat\",\"Dog\",\"Dog\",\"Rabbit\",\"Dog\",\"Cat\",\"Rabbit\",\"Dog\",\"Dog\",\"Bird\",\"Dog\",\"Cat\",\"Bird\",\"Cat\",\"Dog\",\"Dog\",\"Cat\",\"Dog\",\"Dog\",\"Dog\",\"Bird\",\"Dog\",\"Dog\",\"Dog\",\"Rabbit\",\"Dog\",\"Rabbit\",\"Dog\",\"Cat\",\"Dog\",\"Rabbit\",\"Bird\",\"Dog\",\"Cat\",\"Bird\",\"Dog\",\"Rabbit\",\"Rabbit\",\"Dog\",\"Dog\",\"Dog\",\"Dog\",\"Cat\",\"Bird\",\"Dog\",\"Rabbit\",\"Dog\",\"Dog\",\"Bird\",\"Dog\",\"Dog\",\"Dog\",\"Dog\",\"Bird\",\"Dog\",\"Bird\",\"Dog\",\"Bird\",\"Dog\",\"Dog\",\"Cat\",\"Cat\",\"Dog\",\"Rabbit\",\"Cat\",\"Cat\",\"Dog\",\"Cat\",\"Bird\",\"Dog\",\"Bird\",\"Bird\",\"Bird\",\"Cat\",\"Cat\",\"Cat\",\"Dog\",\"Dog\",\"Dog\",\"Cat\",\"Dog\",\"Bird\",\"Bird\",\"Cat\",\"Rabbit\",\"Rabbit\",\"Rabbit\",\"Bird\",\"Dog\",\"Dog\",\"Cat\",\"Cat\",\"Cat\",\"Cat\",\"Dog\",\"Rabbit\",\"Bird\",\"Bird\",\"Dog\",\"Cat\",\"Dog\",\"Cat\",\"Dog\",\"Bird\",\"Cat\",\"Dog\",\"Cat\",\"Cat\",\"Dog\",\"Dog\",\"Bird\",\"Cat\",\"Bird\",\"Bird\",\"Rabbit\",\"Bird\",\"Bird\",\"Dog\",\"Dog\",\"Bird\",\"Dog\",\"Cat\",\"Bird\",\"Rabbit\",\"Dog\",\"Dog\",\"Dog\",\"Bird\",\"Cat\",\"Dog\",\"Cat\",\"Dog\",\"Dog\",\"Cat\",\"Cat\",\"Cat\",\"Bird\",\"Cat\",\"Bird\",\"Dog\",\"Dog\",\"Dog\",\"Rabbit\",\"Bird\",\"Rabbit\",\"Cat\",\"Dog\",\"Cat\",\"Cat\",\"Dog\",\"Bird\",\"Dog\",\"Rabbit\",\"Bird\",\"Bird\",\"Rabbit\",\"Rabbit\",\"Dog\",\"Rabbit\",\"Bird\",\"Cat\",\"Rabbit\",\"Dog\",\"Dog\",\"Dog\",\"Cat\",\"Bird\",\"Dog\",\"Dog\",\"Rabbit\",\"Dog\",\"Cat\",\"Bird\",\"Bird\",\"Cat\",\"Rabbit\",\"Dog\",\"Cat\",\"Dog\",\"Cat\",\"Dog\",\"Bird\",\"Cat\",\"Bird\",\"Cat\",\"Bird\",\"Dog\",\"Bird\",\"Rabbit\",\"Bird\",\"Cat\",\"Bird\",\"Dog\",\"Dog\",\"Cat\",\"Dog\",\"Bird\",\"Bird\",\"Rabbit\",\"Rabbit\",\"Dog\",\"Cat\",\"Bird\",\"Cat\",\"Bird\",\"Rabbit\",\"Dog\",\"Dog\",\"Cat\",\"Dog\",\"Rabbit\",\"Dog\",\"Dog\",\"Cat\",\"Dog\",\"Rabbit\",\"Bird\",\"Dog\",\"Dog\",\"Cat\",\"Cat\",\"Rabbit\",\"Bird\",\"Dog\",\"Bird\",\"Bird\",\"Dog\",\"Dog\",\"Bird\",\"Cat\",\"Dog\",\"Dog\",\"Dog\",\"Rabbit\",\"Rabbit\",\"Bird\",\"Dog\",\"Dog\",\"Bird\",\"Dog\",\"Rabbit\",\"Cat\",\"Dog\",\"Bird\",\"Dog\",\"Bird\",\"Rabbit\",\"Bird\",\"Bird\",\"Rabbit\",\"Dog\",\"Dog\",\"Bird\",\"Dog\",\"Rabbit\",\"Bird\",\"Bird\",\"Dog\",\"Dog\",\"Rabbit\",\"Dog\",\"Cat\",\"Bird\",\"Dog\",\"Dog\",\"Dog\",\"Dog\",\"Rabbit\",\"Cat\",\"Dog\",\"Bird\",\"Bird\",\"Cat\",\"Dog\",\"Bird\",\"Cat\",\"Rabbit\",\"Dog\",\"Cat\",\"Cat\",\"Rabbit\",\"Dog\",\"Rabbit\",\"Dog\",\"Bird\",\"Rabbit\",\"Dog\",\"Dog\",\"Dog\",\"Cat\",\"Rabbit\",\"Cat\",\"Dog\",\"Bird\",\"Rabbit\",\"Dog\",\"Bird\",\"Dog\",\"Dog\",\"Bird\",\"Dog\",\"Bird\",\"Dog\",\"Cat\",\"Rabbit\",\"Bird\",\"Dog\",\"Dog\",\"Cat\",\"Bird\",\"Cat\",\"Rabbit\",\"Bird\",\"Cat\",\"Dog\",\"Dog\",\"Bird\",\"Bird\",\"Dog\",\"Rabbit\",\"Dog\",\"Bird\",\"Dog\",\"Bird\",\"Dog\",\"Cat\",\"Dog\",\"Rabbit\",\"Rabbit\",\"Bird\",\"Dog\",\"Dog\",\"Cat\",\"Cat\",\"Dog\",\"Dog\",\"Bird\",\"Dog\",\"Rabbit\",\"Dog\",\"Dog\",\"Cat\",\"Rabbit\",\"Dog\",\"Bird\",\"Bird\",\"Bird\",\"Rabbit\",\"Rabbit\",\"Cat\",\"Bird\",\"Dog\",\"Dog\",\"Bird\",\"Dog\",\"Rabbit\",\"Bird\",\"Cat\",\"Cat\",\"Bird\",\"Dog\",\"Rabbit\",\"Rabbit\",\"Rabbit\",\"Rabbit\",\"Dog\",\"Cat\",\"Cat\",\"Cat\",\"Dog\",\"Dog\",\"Cat\",\"Dog\",\"Cat\",\"Bird\",\"Bird\",\"Cat\",\"Dog\",\"Rabbit\",\"Dog\",\"Bird\",\"Cat\",\"Cat\",\"Dog\",\"Dog\",\"Dog\",\"Dog\",\"Rabbit\",\"Rabbit\",\"Dog\",\"Dog\",\"Cat\",\"Cat\",\"Dog\",\"Dog\",\"Bird\",\"Bird\",\"Rabbit\",\"Rabbit\",\"Cat\",\"Dog\",\"Cat\",\"Rabbit\",\"Rabbit\",\"Bird\",\"Dog\",\"Cat\",\"Rabbit\",\"Cat\",\"Dog\",\"Rabbit\",\"Dog\",\"Dog\",\"Cat\",\"Cat\",\"Cat\",\"Cat\",\"Dog\",\"Bird\",\"Dog\",\"Dog\",\"Dog\",\"Bird\",\"Dog\",\"Rabbit\",\"Dog\",\"Rabbit\",\"Bird\",\"Rabbit\",\"Cat\",\"Cat\",\"Bird\",\"Dog\",\"Rabbit\",\"Cat\",\"Rabbit\",\"Cat\",\"Rabbit\",\"Rabbit\",\"Bird\",\"Rabbit\",\"Bird\",\"Dog\",\"Rabbit\",\"Bird\",\"Dog\",\"Bird\",\"Bird\",\"Cat\",\"Cat\",\"Rabbit\",\"Rabbit\",\"Bird\",\"Rabbit\",\"Cat\",\"Dog\",\"Dog\",\"Bird\",\"Rabbit\",\"Cat\",\"Dog\",\"Bird\",\"Dog\",\"Rabbit\",\"Cat\",\"Cat\",\"Rabbit\",\"Rabbit\",\"Bird\",\"Cat\",\"Dog\",\"Cat\",\"Dog\",\"Rabbit\",\"Dog\",\"Bird\",\"Dog\",\"Rabbit\",\"Rabbit\",\"Bird\",\"Cat\",\"Bird\",\"Bird\",\"Dog\",\"Bird\",\"Dog\",\"Cat\",\"Rabbit\",\"Cat\",\"Cat\",\"Cat\",\"Bird\",\"Dog\",\"Bird\",\"Cat\",\"Dog\",\"Dog\",\"Bird\",\"Rabbit\",\"Cat\",\"Bird\",\"Dog\"],\"xaxis\":\"x\",\"yaxis\":\"y\",\"type\":\"histogram\"}],                        {\"template\":{\"data\":{\"histogram2dcontour\":[{\"type\":\"histogram2dcontour\",\"colorbar\":{\"outlinewidth\":0,\"ticks\":\"\"},\"colorscale\":[[0.0,\"#0d0887\"],[0.1111111111111111,\"#46039f\"],[0.2222222222222222,\"#7201a8\"],[0.3333333333333333,\"#9c179e\"],[0.4444444444444444,\"#bd3786\"],[0.5555555555555556,\"#d8576b\"],[0.6666666666666666,\"#ed7953\"],[0.7777777777777778,\"#fb9f3a\"],[0.8888888888888888,\"#fdca26\"],[1.0,\"#f0f921\"]]}],\"choropleth\":[{\"type\":\"choropleth\",\"colorbar\":{\"outlinewidth\":0,\"ticks\":\"\"}}],\"histogram2d\":[{\"type\":\"histogram2d\",\"colorbar\":{\"outlinewidth\":0,\"ticks\":\"\"},\"colorscale\":[[0.0,\"#0d0887\"],[0.1111111111111111,\"#46039f\"],[0.2222222222222222,\"#7201a8\"],[0.3333333333333333,\"#9c179e\"],[0.4444444444444444,\"#bd3786\"],[0.5555555555555556,\"#d8576b\"],[0.6666666666666666,\"#ed7953\"],[0.7777777777777778,\"#fb9f3a\"],[0.8888888888888888,\"#fdca26\"],[1.0,\"#f0f921\"]]}],\"heatmap\":[{\"type\":\"heatmap\",\"colorbar\":{\"outlinewidth\":0,\"ticks\":\"\"},\"colorscale\":[[0.0,\"#0d0887\"],[0.1111111111111111,\"#46039f\"],[0.2222222222222222,\"#7201a8\"],[0.3333333333333333,\"#9c179e\"],[0.4444444444444444,\"#bd3786\"],[0.5555555555555556,\"#d8576b\"],[0.6666666666666666,\"#ed7953\"],[0.7777777777777778,\"#fb9f3a\"],[0.8888888888888888,\"#fdca26\"],[1.0,\"#f0f921\"]]}],\"heatmapgl\":[{\"type\":\"heatmapgl\",\"colorbar\":{\"outlinewidth\":0,\"ticks\":\"\"},\"colorscale\":[[0.0,\"#0d0887\"],[0.1111111111111111,\"#46039f\"],[0.2222222222222222,\"#7201a8\"],[0.3333333333333333,\"#9c179e\"],[0.4444444444444444,\"#bd3786\"],[0.5555555555555556,\"#d8576b\"],[0.6666666666666666,\"#ed7953\"],[0.7777777777777778,\"#fb9f3a\"],[0.8888888888888888,\"#fdca26\"],[1.0,\"#f0f921\"]]}],\"contourcarpet\":[{\"type\":\"contourcarpet\",\"colorbar\":{\"outlinewidth\":0,\"ticks\":\"\"}}],\"contour\":[{\"type\":\"contour\",\"colorbar\":{\"outlinewidth\":0,\"ticks\":\"\"},\"colorscale\":[[0.0,\"#0d0887\"],[0.1111111111111111,\"#46039f\"],[0.2222222222222222,\"#7201a8\"],[0.3333333333333333,\"#9c179e\"],[0.4444444444444444,\"#bd3786\"],[0.5555555555555556,\"#d8576b\"],[0.6666666666666666,\"#ed7953\"],[0.7777777777777778,\"#fb9f3a\"],[0.8888888888888888,\"#fdca26\"],[1.0,\"#f0f921\"]]}],\"surface\":[{\"type\":\"surface\",\"colorbar\":{\"outlinewidth\":0,\"ticks\":\"\"},\"colorscale\":[[0.0,\"#0d0887\"],[0.1111111111111111,\"#46039f\"],[0.2222222222222222,\"#7201a8\"],[0.3333333333333333,\"#9c179e\"],[0.4444444444444444,\"#bd3786\"],[0.5555555555555556,\"#d8576b\"],[0.6666666666666666,\"#ed7953\"],[0.7777777777777778,\"#fb9f3a\"],[0.8888888888888888,\"#fdca26\"],[1.0,\"#f0f921\"]]}],\"mesh3d\":[{\"type\":\"mesh3d\",\"colorbar\":{\"outlinewidth\":0,\"ticks\":\"\"}}],\"scatter\":[{\"fillpattern\":{\"fillmode\":\"overlay\",\"size\":10,\"solidity\":0.2},\"type\":\"scatter\"}],\"parcoords\":[{\"type\":\"parcoords\",\"line\":{\"colorbar\":{\"outlinewidth\":0,\"ticks\":\"\"}}}],\"scatterpolargl\":[{\"type\":\"scatterpolargl\",\"marker\":{\"colorbar\":{\"outlinewidth\":0,\"ticks\":\"\"}}}],\"bar\":[{\"error_x\":{\"color\":\"#2a3f5f\"},\"error_y\":{\"color\":\"#2a3f5f\"},\"marker\":{\"line\":{\"color\":\"#E5ECF6\",\"width\":0.5},\"pattern\":{\"fillmode\":\"overlay\",\"size\":10,\"solidity\":0.2}},\"type\":\"bar\"}],\"scattergeo\":[{\"type\":\"scattergeo\",\"marker\":{\"colorbar\":{\"outlinewidth\":0,\"ticks\":\"\"}}}],\"scatterpolar\":[{\"type\":\"scatterpolar\",\"marker\":{\"colorbar\":{\"outlinewidth\":0,\"ticks\":\"\"}}}],\"histogram\":[{\"marker\":{\"pattern\":{\"fillmode\":\"overlay\",\"size\":10,\"solidity\":0.2}},\"type\":\"histogram\"}],\"scattergl\":[{\"type\":\"scattergl\",\"marker\":{\"colorbar\":{\"outlinewidth\":0,\"ticks\":\"\"}}}],\"scatter3d\":[{\"type\":\"scatter3d\",\"line\":{\"colorbar\":{\"outlinewidth\":0,\"ticks\":\"\"}},\"marker\":{\"colorbar\":{\"outlinewidth\":0,\"ticks\":\"\"}}}],\"scattermapbox\":[{\"type\":\"scattermapbox\",\"marker\":{\"colorbar\":{\"outlinewidth\":0,\"ticks\":\"\"}}}],\"scatterternary\":[{\"type\":\"scatterternary\",\"marker\":{\"colorbar\":{\"outlinewidth\":0,\"ticks\":\"\"}}}],\"scattercarpet\":[{\"type\":\"scattercarpet\",\"marker\":{\"colorbar\":{\"outlinewidth\":0,\"ticks\":\"\"}}}],\"carpet\":[{\"aaxis\":{\"endlinecolor\":\"#2a3f5f\",\"gridcolor\":\"white\",\"linecolor\":\"white\",\"minorgridcolor\":\"white\",\"startlinecolor\":\"#2a3f5f\"},\"baxis\":{\"endlinecolor\":\"#2a3f5f\",\"gridcolor\":\"white\",\"linecolor\":\"white\",\"minorgridcolor\":\"white\",\"startlinecolor\":\"#2a3f5f\"},\"type\":\"carpet\"}],\"table\":[{\"cells\":{\"fill\":{\"color\":\"#EBF0F8\"},\"line\":{\"color\":\"white\"}},\"header\":{\"fill\":{\"color\":\"#C8D4E3\"},\"line\":{\"color\":\"white\"}},\"type\":\"table\"}],\"barpolar\":[{\"marker\":{\"line\":{\"color\":\"#E5ECF6\",\"width\":0.5},\"pattern\":{\"fillmode\":\"overlay\",\"size\":10,\"solidity\":0.2}},\"type\":\"barpolar\"}],\"pie\":[{\"automargin\":true,\"type\":\"pie\"}]},\"layout\":{\"autotypenumbers\":\"strict\",\"colorway\":[\"#636efa\",\"#EF553B\",\"#00cc96\",\"#ab63fa\",\"#FFA15A\",\"#19d3f3\",\"#FF6692\",\"#B6E880\",\"#FF97FF\",\"#FECB52\"],\"font\":{\"color\":\"#2a3f5f\"},\"hovermode\":\"closest\",\"hoverlabel\":{\"align\":\"left\"},\"paper_bgcolor\":\"white\",\"plot_bgcolor\":\"#E5ECF6\",\"polar\":{\"bgcolor\":\"#E5ECF6\",\"angularaxis\":{\"gridcolor\":\"white\",\"linecolor\":\"white\",\"ticks\":\"\"},\"radialaxis\":{\"gridcolor\":\"white\",\"linecolor\":\"white\",\"ticks\":\"\"}},\"ternary\":{\"bgcolor\":\"#E5ECF6\",\"aaxis\":{\"gridcolor\":\"white\",\"linecolor\":\"white\",\"ticks\":\"\"},\"baxis\":{\"gridcolor\":\"white\",\"linecolor\":\"white\",\"ticks\":\"\"},\"caxis\":{\"gridcolor\":\"white\",\"linecolor\":\"white\",\"ticks\":\"\"}},\"coloraxis\":{\"colorbar\":{\"outlinewidth\":0,\"ticks\":\"\"}},\"colorscale\":{\"sequential\":[[0.0,\"#0d0887\"],[0.1111111111111111,\"#46039f\"],[0.2222222222222222,\"#7201a8\"],[0.3333333333333333,\"#9c179e\"],[0.4444444444444444,\"#bd3786\"],[0.5555555555555556,\"#d8576b\"],[0.6666666666666666,\"#ed7953\"],[0.7777777777777778,\"#fb9f3a\"],[0.8888888888888888,\"#fdca26\"],[1.0,\"#f0f921\"]],\"sequentialminus\":[[0.0,\"#0d0887\"],[0.1111111111111111,\"#46039f\"],[0.2222222222222222,\"#7201a8\"],[0.3333333333333333,\"#9c179e\"],[0.4444444444444444,\"#bd3786\"],[0.5555555555555556,\"#d8576b\"],[0.6666666666666666,\"#ed7953\"],[0.7777777777777778,\"#fb9f3a\"],[0.8888888888888888,\"#fdca26\"],[1.0,\"#f0f921\"]],\"diverging\":[[0,\"#8e0152\"],[0.1,\"#c51b7d\"],[0.2,\"#de77ae\"],[0.3,\"#f1b6da\"],[0.4,\"#fde0ef\"],[0.5,\"#f7f7f7\"],[0.6,\"#e6f5d0\"],[0.7,\"#b8e186\"],[0.8,\"#7fbc41\"],[0.9,\"#4d9221\"],[1,\"#276419\"]]},\"xaxis\":{\"gridcolor\":\"white\",\"linecolor\":\"white\",\"ticks\":\"\",\"title\":{\"standoff\":15},\"zerolinecolor\":\"white\",\"automargin\":true,\"zerolinewidth\":2},\"yaxis\":{\"gridcolor\":\"white\",\"linecolor\":\"white\",\"ticks\":\"\",\"title\":{\"standoff\":15},\"zerolinecolor\":\"white\",\"automargin\":true,\"zerolinewidth\":2},\"scene\":{\"xaxis\":{\"backgroundcolor\":\"#E5ECF6\",\"gridcolor\":\"white\",\"linecolor\":\"white\",\"showbackground\":true,\"ticks\":\"\",\"zerolinecolor\":\"white\",\"gridwidth\":2},\"yaxis\":{\"backgroundcolor\":\"#E5ECF6\",\"gridcolor\":\"white\",\"linecolor\":\"white\",\"showbackground\":true,\"ticks\":\"\",\"zerolinecolor\":\"white\",\"gridwidth\":2},\"zaxis\":{\"backgroundcolor\":\"#E5ECF6\",\"gridcolor\":\"white\",\"linecolor\":\"white\",\"showbackground\":true,\"ticks\":\"\",\"zerolinecolor\":\"white\",\"gridwidth\":2}},\"shapedefaults\":{\"line\":{\"color\":\"#2a3f5f\"}},\"annotationdefaults\":{\"arrowcolor\":\"#2a3f5f\",\"arrowhead\":0,\"arrowwidth\":1},\"geo\":{\"bgcolor\":\"white\",\"landcolor\":\"#E5ECF6\",\"subunitcolor\":\"white\",\"showland\":true,\"showlakes\":true,\"lakecolor\":\"white\"},\"title\":{\"x\":0.05},\"mapbox\":{\"style\":\"light\"}}},\"xaxis\":{\"anchor\":\"y\",\"domain\":[0.0,1.0],\"title\":{\"text\":\"PetType\"}},\"yaxis\":{\"anchor\":\"x\",\"domain\":[0.0,1.0],\"title\":{\"text\":\"count\"}},\"legend\":{\"title\":{\"text\":\"AdoptionLikelihood\"},\"tracegroupgap\":0},\"title\":{\"text\":\"Distribution of Breed\"},\"barmode\":\"relative\"},                        {\"responsive\": true}                    ).then(function(){\n",
       "                            \n",
       "var gd = document.getElementById('74ee9765-52ab-49a9-a062-3491bf31c31a');\n",
       "var x = new MutationObserver(function (mutations, observer) {{\n",
       "        var display = window.getComputedStyle(gd).display;\n",
       "        if (!display || display === 'none') {{\n",
       "            console.log([gd, 'removed!']);\n",
       "            Plotly.purge(gd);\n",
       "            observer.disconnect();\n",
       "        }}\n",
       "}});\n",
       "\n",
       "// Listen for the removal of the full notebook cells\n",
       "var notebookContainer = gd.closest('#notebook-container');\n",
       "if (notebookContainer) {{\n",
       "    x.observe(notebookContainer, {childList: true});\n",
       "}}\n",
       "\n",
       "// Listen for the clearing of the current output cell\n",
       "var outputEl = gd.closest('.output');\n",
       "if (outputEl) {{\n",
       "    x.observe(outputEl, {childList: true});\n",
       "}}\n",
       "\n",
       "                        })                };                });            </script>        </div>"
      ]
     },
     "metadata": {},
     "output_type": "display_data"
    }
   ],
   "source": [
    "px.histogram(data, x=\"PetType\", color=\"AdoptionLikelihood\", title=\"Distribution of Breed\")"
   ]
  },
  {
   "cell_type": "markdown",
   "metadata": {},
   "source": [
    "From the plota above, we see that dogs are slightly more likely to get adopted."
   ]
  }
 ],
 "metadata": {
  "kernelspec": {
   "display_name": ".venv",
   "language": "python",
   "name": "python3"
  },
  "language_info": {
   "codemirror_mode": {
    "name": "ipython",
    "version": 3
   },
   "file_extension": ".py",
   "mimetype": "text/x-python",
   "name": "python",
   "nbconvert_exporter": "python",
   "pygments_lexer": "ipython3",
   "version": "3.10.12"
  }
 },
 "nbformat": 4,
 "nbformat_minor": 2
}
