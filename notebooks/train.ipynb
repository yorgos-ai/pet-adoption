{
 "cells": [
  {
   "cell_type": "markdown",
   "metadata": {},
   "source": [
    "## Import libraries"
   ]
  },
  {
   "cell_type": "code",
   "execution_count": null,
   "metadata": {},
   "outputs": [],
   "source": [
    "import mlflow\n",
    "import os\n",
    "from sklearn.metrics import classification_report\n",
    "from src.utils.data_loader import read_csv_from_s3\n",
    "from src.utils.train import object_type_to_category, stratified_split, train_model"
   ]
  },
  {
   "cell_type": "code",
   "execution_count": null,
   "metadata": {},
   "outputs": [],
   "source": [
    "os.environ[\"AWS_PROFILE\"] = (\n",
    "    \"mlops-zoomcamp\"  # fill in with your AWS profile. More info: https://docs.aws.amazon.com/sdk-for-java/latest/developer-guide/setup.html#setup-credentials\n",
    ")\n",
    "\n",
    "TRACKING_SERVER_HOST = (\n",
    "    \"ec2-3-249-138-11.eu-west-1.compute.amazonaws.com\"  # fill in with the public DNS of the EC2 instance\n",
    ")\n",
    "mlflow.set_tracking_uri(f\"http://{TRACKING_SERVER_HOST}:5000\")\n",
    "\n",
    "print(f\"tracking URI: '{mlflow.get_tracking_uri()}'\")"
   ]
  },
  {
   "cell_type": "markdown",
   "metadata": {},
   "source": [
    "## Load the data from S3"
   ]
  },
  {
   "cell_type": "code",
   "execution_count": null,
   "metadata": {},
   "outputs": [],
   "source": [
    "bucket_name = \"pet-adoption-mlops\"\n",
    "s3_data_path = \"data\"\n",
    "file_name = \"pet_adoption_data.csv\"\n",
    "\n",
    "data = read_csv_from_s3(bucket_name=bucket_name, file_key=f\"{s3_data_path}/{file_name}\")"
   ]
  },
  {
   "cell_type": "code",
   "execution_count": null,
   "metadata": {
    "vscode": {
     "languageId": "ruby"
    }
   },
   "outputs": [],
   "source": [
    "data = object_type_to_category(df=data)"
   ]
  },
  {
   "cell_type": "code",
   "execution_count": null,
   "metadata": {},
   "outputs": [],
   "source": [
    "target = \"AdoptionLikelihood\"\n",
    "num_features = [\n",
    "    \"AgeMonths\",\n",
    "    \"WeightKg\",\n",
    "    \"Vaccinated\",\n",
    "    \"HealthCondition\",\n",
    "    \"TimeInShelterDays\",\n",
    "    \"AdoptionFee\",\n",
    "    \"PreviousOwner\",\n",
    "]\n",
    "cat_features = [\"PetType\", \"Breed\", \"Color\", \"Size\"]\n",
    "\n",
    "random_state = 42"
   ]
  },
  {
   "cell_type": "code",
   "execution_count": null,
   "metadata": {},
   "outputs": [],
   "source": [
    "df_train, df_val, df_test = stratified_split(data, target_col=target, random_state=42)"
   ]
  },
  {
   "cell_type": "code",
   "execution_count": null,
   "metadata": {},
   "outputs": [],
   "source": [
    "print(f\"Train df shape: {df_train.shape}\")\n",
    "print(f\"Validation df shape: {df_val.shape}\")\n",
    "print(f\"Test df shape: {df_test.shape}\")"
   ]
  },
  {
   "cell_type": "code",
   "execution_count": null,
   "metadata": {},
   "outputs": [],
   "source": [
    "df_train[\"AdoptionLikelihood\"].value_counts(normalize=True)"
   ]
  },
  {
   "cell_type": "code",
   "execution_count": null,
   "metadata": {},
   "outputs": [],
   "source": [
    "df_val[\"AdoptionLikelihood\"].value_counts(normalize=True)"
   ]
  },
  {
   "cell_type": "code",
   "execution_count": null,
   "metadata": {},
   "outputs": [],
   "source": [
    "df_test[\"AdoptionLikelihood\"].value_counts(normalize=True)"
   ]
  },
  {
   "cell_type": "code",
   "execution_count": null,
   "metadata": {},
   "outputs": [],
   "source": [
    "model = train_model(\n",
    "    df_train=df_train,\n",
    "    df_val=df_val,\n",
    "    target=target,\n",
    "    num_features=num_features,\n",
    "    cat_features=cat_features,\n",
    "    random_state=random_state,\n",
    ")"
   ]
  },
  {
   "cell_type": "code",
   "execution_count": null,
   "metadata": {},
   "outputs": [],
   "source": [
    "y_pred = model.predict(df_test[num_features + cat_features])\n",
    "y_true = df_test[\"AdoptionLikelihood\"]\n",
    "accuracy = (y_pred == df_test[\"AdoptionLikelihood\"]).mean()\n",
    "print(f\"Accuracy: {accuracy}\")"
   ]
  },
  {
   "cell_type": "code",
   "execution_count": null,
   "metadata": {},
   "outputs": [],
   "source": [
    "from src.utils.evaluate import plot_confusion_matrix\n",
    "\n",
    "plot_confusion_matrix(y_true=df_test[\"AdoptionLikelihood\"], y_pred=y_pred)"
   ]
  },
  {
   "cell_type": "code",
   "execution_count": null,
   "metadata": {},
   "outputs": [],
   "source": [
    "# Calculate classification metrics for each class and total\n",
    "report = classification_report(y_true, y_pred, target_names=[\"Class 0\", \"Class 1\"])\n",
    "\n",
    "# Print the classification report\n",
    "print(report)"
   ]
  }
 ],
 "metadata": {
  "kernelspec": {
   "display_name": "src-t1J8exPm-py3.10",
   "language": "python",
   "name": "python3"
  },
  "language_info": {
   "codemirror_mode": {
    "name": "ipython",
    "version": 3
   },
   "file_extension": ".py",
   "mimetype": "text/x-python",
   "name": "python",
   "nbconvert_exporter": "python",
   "pygments_lexer": "ipython3",
   "version": "3.10.12"
  }
 },
 "nbformat": 4,
 "nbformat_minor": 2
}
