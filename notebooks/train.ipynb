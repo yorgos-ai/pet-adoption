{
 "cells": [
  {
   "cell_type": "markdown",
   "metadata": {},
   "source": [
    "## Import libraries"
   ]
  },
  {
   "cell_type": "code",
   "execution_count": null,
   "metadata": {},
   "outputs": [],
   "source": [
    "import pandas as pd\n",
    "from sklearn.metrics import classification_report\n",
    "from src.utils.data_loader import read_csv_from_s3\n",
    "from src.utils.train import object_type_to_category, stratified_split, train_model\n",
    "from pathlib import Path\n",
    "from src.utils.evaluate import plot_confusion_matrix"
   ]
  },
  {
   "cell_type": "code",
   "execution_count": null,
   "metadata": {},
   "outputs": [],
   "source": [
    "TARGET = \"AdoptionLikelihood\"\n",
    "NUM_FEATURES = [\n",
    "    \"AgeMonths\",\n",
    "    \"WeightKg\",\n",
    "    \"Vaccinated\",\n",
    "    \"HealthCondition\",\n",
    "    \"TimeInShelterDays\",\n",
    "    \"AdoptionFee\",\n",
    "    \"PreviousOwner\",\n",
    "]\n",
    "CAT_FEATURES = [\"PetType\", \"Breed\", \"Color\", \"Size\"]\n",
    "RANDOM_STATE = 42"
   ]
  },
  {
   "cell_type": "markdown",
   "metadata": {},
   "source": [
    "## Load the data from S3"
   ]
  },
  {
   "cell_type": "code",
   "execution_count": null,
   "metadata": {},
   "outputs": [],
   "source": [
    "bucket_name = \"pet-adoption-mlops\"\n",
    "s3_data_path = \"data\"\n",
    "file_name = \"pet_adoption_data.csv\"\n",
    "\n",
    "data = read_csv_from_s3(bucket_name=bucket_name, file_key=f\"{s3_data_path}/{file_name}\")"
   ]
  },
  {
   "cell_type": "code",
   "execution_count": null,
   "metadata": {
    "vscode": {
     "languageId": "ruby"
    }
   },
   "outputs": [],
   "source": [
    "data = object_type_to_category(df=data)"
   ]
  },
  {
   "cell_type": "code",
   "execution_count": null,
   "metadata": {},
   "outputs": [],
   "source": [
    "df_train, df_val, df_test = stratified_split(data)"
   ]
  },
  {
   "cell_type": "code",
   "execution_count": null,
   "metadata": {},
   "outputs": [],
   "source": [
    "print(f\"Train df shape: {df_train.shape}\")\n",
    "print(f\"Validation df shape: {df_val.shape}\")\n",
    "print(f\"Test df shape: {df_test.shape}\")"
   ]
  },
  {
   "cell_type": "code",
   "execution_count": null,
   "metadata": {},
   "outputs": [],
   "source": [
    "df_train[TARGET].value_counts(normalize=True)"
   ]
  },
  {
   "cell_type": "code",
   "execution_count": null,
   "metadata": {},
   "outputs": [],
   "source": [
    "df_val[TARGET].value_counts(normalize=True)"
   ]
  },
  {
   "cell_type": "code",
   "execution_count": null,
   "metadata": {},
   "outputs": [],
   "source": [
    "df_test[TARGET].value_counts(normalize=True)"
   ]
  },
  {
   "cell_type": "code",
   "execution_count": null,
   "metadata": {},
   "outputs": [],
   "source": [
    "model = train_model(df_train=df_train, df_val=df_val)"
   ]
  },
  {
   "cell_type": "code",
   "execution_count": null,
   "metadata": {},
   "outputs": [],
   "source": [
    "y_pred = model.predict(df_val[NUM_FEATURES + CAT_FEATURES])\n",
    "y_true = df_val[TARGET]\n",
    "accuracy = (y_pred == df_val[TARGET]).mean()\n",
    "print(f\"Accuracy: {accuracy}\")"
   ]
  },
  {
   "cell_type": "code",
   "execution_count": null,
   "metadata": {},
   "outputs": [],
   "source": [
    "current_dir = Path.cwd()\n",
    "artifacts_dir = current_dir.parent / \"artifacts\"\n",
    "artifacts_dir.mkdir(exist_ok=True)\n",
    "\n",
    "plot_name = \"confusion_matrix.png\"\n",
    "full_path_plot = artifacts_dir / plot_name"
   ]
  },
  {
   "cell_type": "code",
   "execution_count": null,
   "metadata": {},
   "outputs": [],
   "source": [
    "full_path_plot"
   ]
  },
  {
   "cell_type": "code",
   "execution_count": null,
   "metadata": {},
   "outputs": [],
   "source": [
    "plot_confusion_matrix(y_true=df_val[TARGET], y_pred=y_pred, save_path=full_path_plot)"
   ]
  },
  {
   "cell_type": "code",
   "execution_count": null,
   "metadata": {},
   "outputs": [],
   "source": [
    "# Calculate classification metrics for each class and total\n",
    "report = classification_report(y_true, y_pred, target_names=[\"Not Adopted\", \"Adopted\"], output_dict=True)\n",
    "report_df = pd.DataFrame(report).transpose()"
   ]
  },
  {
   "cell_type": "code",
   "execution_count": null,
   "metadata": {},
   "outputs": [],
   "source": [
    "import pandas as pd\n",
    "\n",
    "pd.DataFrame(report).T"
   ]
  }
 ],
 "metadata": {
  "kernelspec": {
   "display_name": "src-t1J8exPm-py3.10",
   "language": "python",
   "name": "python3"
  },
  "language_info": {
   "codemirror_mode": {
    "name": "ipython",
    "version": 3
   },
   "file_extension": ".py",
   "mimetype": "text/x-python",
   "name": "python",
   "nbconvert_exporter": "python",
   "pygments_lexer": "ipython3",
   "version": "3.10.12"
  }
 },
 "nbformat": 4,
 "nbformat_minor": 2
}
