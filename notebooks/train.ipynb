{
 "cells": [
  {
   "cell_type": "markdown",
   "metadata": {},
   "source": [
    "## Import libraries"
   ]
  },
  {
   "cell_type": "code",
   "execution_count": 1,
   "metadata": {},
   "outputs": [],
   "source": [
    "import pandas as pd\n",
    "import boto3\n",
    "from io import StringIO\n",
    "from sklearn.metrics import classification_report\n",
    "from sklearn.model_selection import train_test_split\n",
    "from catboost import CatBoostClassifier"
   ]
  },
  {
   "cell_type": "markdown",
   "metadata": {},
   "source": [
    "## Load the data from S3"
   ]
  },
  {
   "cell_type": "code",
   "execution_count": 2,
   "metadata": {},
   "outputs": [],
   "source": [
    "def read_csv_from_s3(bucket_name: str, file_key: str) -> pd.DataFrame:\n",
    "    \"\"\"\n",
    "    Read a CSV file from an S3 bucket into a Pandas DataFrame.\n",
    "\n",
    "    :param bucket_name: the name of the S3 bucket\n",
    "    :param file_key: the full path to the csv file\n",
    "    :return: a dataframe containing the CSV data\n",
    "    \"\"\"\n",
    "    # Create an S3 resource\n",
    "    s3 = boto3.resource(\"s3\")\n",
    "\n",
    "    # Get the object from the bucket\n",
    "    obj = s3.Object(bucket_name, file_key)\n",
    "    file_content = obj.get()[\"Body\"].read().decode(\"utf-8\")\n",
    "\n",
    "    # Read the CSV data into a DataFrame\n",
    "    df = pd.read_csv(StringIO(file_content))\n",
    "    return df"
   ]
  },
  {
   "cell_type": "code",
   "execution_count": 3,
   "metadata": {},
   "outputs": [],
   "source": [
    "data = read_csv_from_s3(bucket_name=\"pet-adoption-mlops\", file_key=\"data/pet_adoption_data.csv\")"
   ]
  },
  {
   "cell_type": "code",
   "execution_count": 4,
   "metadata": {
    "vscode": {
     "languageId": "ruby"
    }
   },
   "outputs": [],
   "source": [
    "def cast_object_columns_to_category_type(df: pd.DataFrame) -> pd.DataFrame:\n",
    "    \"\"\"\n",
    "    Cast object columns as category type.\n",
    "\n",
    "    :param df: initial dataframe\n",
    "    :return: dataframe with object columns casted to category type\n",
    "    \"\"\"\n",
    "    object_columns = df.select_dtypes(include=[\"object\"]).columns\n",
    "    df[object_columns] = df[object_columns].astype(\"category\")\n",
    "    return df"
   ]
  },
  {
   "cell_type": "code",
   "execution_count": 5,
   "metadata": {
    "vscode": {
     "languageId": "ruby"
    }
   },
   "outputs": [],
   "source": [
    "data = cast_object_columns_to_category_type(df=data)"
   ]
  },
  {
   "cell_type": "code",
   "execution_count": 6,
   "metadata": {},
   "outputs": [],
   "source": [
    "target = \"AdoptionLikelihood\"\n",
    "num_features = [\n",
    "    \"AgeMonths\",\n",
    "    \"WeightKg\",\n",
    "    \"Vaccinated\",\n",
    "    \"HealthCondition\",\n",
    "    \"TimeInShelterDays\",\n",
    "    \"AdoptionFee\",\n",
    "    \"PreviousOwner\",\n",
    "]\n",
    "cat_features = [\"PetType\", \"Breed\", \"Color\", \"Size\"]\n",
    "\n",
    "random_state = 42"
   ]
  },
  {
   "cell_type": "code",
   "execution_count": 7,
   "metadata": {},
   "outputs": [],
   "source": [
    "from typing import Tuple\n",
    "\n",
    "\n",
    "def split_dataframe_stratified(\n",
    "    df: pd.DataFrame,\n",
    "    target_col: str,\n",
    "    random_state: int,\n",
    "    frac_train: float = 0.6,\n",
    "    frac_val: float = 0.2,\n",
    "    frac_test: float = 0.2,\n",
    ") -> Tuple[pd.DataFrame, pd.DataFrame, pd.DataFrame]:\n",
    "    \"\"\"\n",
    "    Splits a DataFrame into train, validation, and test sets, stratified on the target column.\n",
    "\n",
    "    :param df: initial dataframe\n",
    "    :param target_col: the name fo the target column\n",
    "    :param frac_train: the fraction of data in the train set, defaults to 0.6\n",
    "    :param frac_val: the fraction of data in the validation set, defaults to 0.2\n",
    "    :param frac_test: the fraction of data in the test set, defaults to 0.2\n",
    "    :param random_state: the random seed, defaults to None\n",
    "    :return: _description_\n",
    "    \"\"\"\n",
    "    if frac_train + frac_val + frac_test != 1.0:\n",
    "        raise ValueError(\"Fractions must sum to 1\")\n",
    "\n",
    "    # Perform initial split into train/temp and validate/test\n",
    "    df_train, df_temp = train_test_split(\n",
    "        df, stratify=df[target_col], test_size=(1.0 - frac_train), random_state=random_state\n",
    "    )\n",
    "\n",
    "    # Further split temp into val/test\n",
    "    relative_frac_test = frac_test / (frac_val + frac_test)\n",
    "    df_val, df_test = train_test_split(\n",
    "        df_temp, stratify=df_temp[target_col], test_size=relative_frac_test, random_state=random_state\n",
    "    )\n",
    "\n",
    "    return df_train, df_val, df_test"
   ]
  },
  {
   "cell_type": "code",
   "execution_count": 8,
   "metadata": {},
   "outputs": [],
   "source": [
    "df_train, df_val, df_test = split_dataframe_stratified(data, target_col=target, random_state=42)"
   ]
  },
  {
   "cell_type": "code",
   "execution_count": 9,
   "metadata": {},
   "outputs": [
    {
     "name": "stdout",
     "output_type": "stream",
     "text": [
      "Train df shape: (1204, 13)\n",
      "Validation df shape: (401, 13)\n",
      "Test df shape: (402, 13)\n"
     ]
    }
   ],
   "source": [
    "print(f\"Train df shape: {df_train.shape}\")\n",
    "print(f\"Validation df shape: {df_val.shape}\")\n",
    "print(f\"Test df shape: {df_test.shape}\")"
   ]
  },
  {
   "cell_type": "code",
   "execution_count": 10,
   "metadata": {},
   "outputs": [
    {
     "data": {
      "text/plain": [
       "AdoptionLikelihood\n",
       "0    0.671927\n",
       "1    0.328073\n",
       "Name: proportion, dtype: float64"
      ]
     },
     "execution_count": 10,
     "metadata": {},
     "output_type": "execute_result"
    }
   ],
   "source": [
    "df_train[\"AdoptionLikelihood\"].value_counts(normalize=True)"
   ]
  },
  {
   "cell_type": "code",
   "execution_count": 11,
   "metadata": {},
   "outputs": [
    {
     "data": {
      "text/plain": [
       "AdoptionLikelihood\n",
       "0    0.670823\n",
       "1    0.329177\n",
       "Name: proportion, dtype: float64"
      ]
     },
     "execution_count": 11,
     "metadata": {},
     "output_type": "execute_result"
    }
   ],
   "source": [
    "df_val[\"AdoptionLikelihood\"].value_counts(normalize=True)"
   ]
  },
  {
   "cell_type": "code",
   "execution_count": 12,
   "metadata": {},
   "outputs": [
    {
     "data": {
      "text/plain": [
       "AdoptionLikelihood\n",
       "0    0.671642\n",
       "1    0.328358\n",
       "Name: proportion, dtype: float64"
      ]
     },
     "execution_count": 12,
     "metadata": {},
     "output_type": "execute_result"
    }
   ],
   "source": [
    "df_test[\"AdoptionLikelihood\"].value_counts(normalize=True)"
   ]
  },
  {
   "cell_type": "code",
   "execution_count": 13,
   "metadata": {},
   "outputs": [
    {
     "name": "stdout",
     "output_type": "stream",
     "text": [
      "0:\tlearn: 0.6423758\ttest: 0.6433426\tbest: 0.6433426 (0)\ttotal: 49ms\tremaining: 4.85s\n",
      "1:\tlearn: 0.5994060\ttest: 0.6003663\tbest: 0.6003663 (1)\ttotal: 50ms\tremaining: 2.45s\n",
      "2:\tlearn: 0.5623964\ttest: 0.5637664\tbest: 0.5637664 (2)\ttotal: 50.8ms\tremaining: 1.64s\n",
      "3:\tlearn: 0.5310919\ttest: 0.5335831\tbest: 0.5335831 (3)\ttotal: 51.6ms\tremaining: 1.24s\n",
      "4:\tlearn: 0.5027181\ttest: 0.5051196\tbest: 0.5051196 (4)\ttotal: 52.3ms\tremaining: 994ms\n",
      "5:\tlearn: 0.4784457\ttest: 0.4808145\tbest: 0.4808145 (5)\ttotal: 53ms\tremaining: 830ms\n",
      "6:\tlearn: 0.4585821\ttest: 0.4613417\tbest: 0.4613417 (6)\ttotal: 53.7ms\tremaining: 714ms\n",
      "7:\tlearn: 0.4411113\ttest: 0.4437549\tbest: 0.4437549 (7)\ttotal: 55.5ms\tremaining: 639ms\n",
      "8:\tlearn: 0.4255118\ttest: 0.4284788\tbest: 0.4284788 (8)\ttotal: 57ms\tremaining: 577ms\n",
      "9:\tlearn: 0.3999067\ttest: 0.4047256\tbest: 0.4047256 (9)\ttotal: 57.9ms\tremaining: 521ms\n",
      "10:\tlearn: 0.3788305\ttest: 0.3865273\tbest: 0.3865273 (10)\ttotal: 58.7ms\tremaining: 475ms\n",
      "11:\tlearn: 0.3624981\ttest: 0.3719622\tbest: 0.3719622 (11)\ttotal: 59.3ms\tremaining: 435ms\n",
      "12:\tlearn: 0.3471547\ttest: 0.3581455\tbest: 0.3581455 (12)\ttotal: 60.1ms\tremaining: 402ms\n",
      "13:\tlearn: 0.3324933\ttest: 0.3444206\tbest: 0.3444206 (13)\ttotal: 61.8ms\tremaining: 380ms\n",
      "14:\tlearn: 0.3196725\ttest: 0.3326272\tbest: 0.3326272 (14)\ttotal: 65.4ms\tremaining: 371ms\n",
      "15:\tlearn: 0.3079076\ttest: 0.3220821\tbest: 0.3220821 (15)\ttotal: 66.4ms\tremaining: 349ms\n",
      "16:\tlearn: 0.2985761\ttest: 0.3137926\tbest: 0.3137926 (16)\ttotal: 67.3ms\tremaining: 329ms\n",
      "17:\tlearn: 0.2932831\ttest: 0.3089541\tbest: 0.3089541 (17)\ttotal: 68.1ms\tremaining: 310ms\n",
      "18:\tlearn: 0.2876039\ttest: 0.3041849\tbest: 0.3041849 (18)\ttotal: 69ms\tremaining: 294ms\n",
      "19:\tlearn: 0.2819958\ttest: 0.2994927\tbest: 0.2994927 (19)\ttotal: 70.7ms\tremaining: 283ms\n",
      "20:\tlearn: 0.2753718\ttest: 0.2936572\tbest: 0.2936572 (20)\ttotal: 72.8ms\tremaining: 274ms\n",
      "21:\tlearn: 0.2701287\ttest: 0.2894473\tbest: 0.2894473 (21)\ttotal: 73.7ms\tremaining: 261ms\n",
      "22:\tlearn: 0.2665721\ttest: 0.2866546\tbest: 0.2866546 (22)\ttotal: 74.6ms\tremaining: 250ms\n",
      "23:\tlearn: 0.2629262\ttest: 0.2838152\tbest: 0.2838152 (23)\ttotal: 75.4ms\tremaining: 239ms\n",
      "24:\tlearn: 0.2585295\ttest: 0.2800440\tbest: 0.2800440 (24)\ttotal: 78ms\tremaining: 234ms\n",
      "25:\tlearn: 0.2534661\ttest: 0.2753970\tbest: 0.2753970 (25)\ttotal: 79ms\tremaining: 225ms\n",
      "26:\tlearn: 0.2508904\ttest: 0.2732770\tbest: 0.2732770 (26)\ttotal: 81.1ms\tremaining: 219ms\n",
      "27:\tlearn: 0.2476109\ttest: 0.2705387\tbest: 0.2705387 (27)\ttotal: 81.9ms\tremaining: 210ms\n",
      "28:\tlearn: 0.2444747\ttest: 0.2680979\tbest: 0.2680979 (28)\ttotal: 82.7ms\tremaining: 203ms\n",
      "29:\tlearn: 0.2419104\ttest: 0.2663479\tbest: 0.2663479 (29)\ttotal: 83.8ms\tremaining: 195ms\n",
      "30:\tlearn: 0.2399987\ttest: 0.2654348\tbest: 0.2654348 (30)\ttotal: 84.6ms\tremaining: 188ms\n",
      "31:\tlearn: 0.2389726\ttest: 0.2650390\tbest: 0.2650390 (31)\ttotal: 84.9ms\tremaining: 180ms\n",
      "32:\tlearn: 0.2359590\ttest: 0.2624651\tbest: 0.2624651 (32)\ttotal: 85.7ms\tremaining: 174ms\n",
      "33:\tlearn: 0.2342045\ttest: 0.2614562\tbest: 0.2614562 (33)\ttotal: 86.4ms\tremaining: 168ms\n",
      "34:\tlearn: 0.2326657\ttest: 0.2603142\tbest: 0.2603142 (34)\ttotal: 87.1ms\tremaining: 162ms\n",
      "35:\tlearn: 0.2314192\ttest: 0.2593860\tbest: 0.2593860 (35)\ttotal: 87.8ms\tremaining: 156ms\n",
      "36:\tlearn: 0.2305434\ttest: 0.2583342\tbest: 0.2583342 (36)\ttotal: 90.7ms\tremaining: 154ms\n",
      "37:\tlearn: 0.2292956\ttest: 0.2576460\tbest: 0.2576460 (37)\ttotal: 92.7ms\tremaining: 151ms\n",
      "38:\tlearn: 0.2280414\ttest: 0.2576953\tbest: 0.2576460 (37)\ttotal: 93.5ms\tremaining: 146ms\n",
      "39:\tlearn: 0.2270968\ttest: 0.2575875\tbest: 0.2575875 (39)\ttotal: 94.1ms\tremaining: 141ms\n",
      "40:\tlearn: 0.2261398\ttest: 0.2570952\tbest: 0.2570952 (40)\ttotal: 94.8ms\tremaining: 136ms\n",
      "41:\tlearn: 0.2246815\ttest: 0.2566173\tbest: 0.2566173 (41)\ttotal: 95.5ms\tremaining: 132ms\n",
      "42:\tlearn: 0.2239583\ttest: 0.2568295\tbest: 0.2566173 (41)\ttotal: 96.1ms\tremaining: 127ms\n",
      "43:\tlearn: 0.2222247\ttest: 0.2559574\tbest: 0.2559574 (43)\ttotal: 96.8ms\tremaining: 123ms\n",
      "44:\tlearn: 0.2214358\ttest: 0.2553603\tbest: 0.2553603 (44)\ttotal: 98.8ms\tremaining: 121ms\n",
      "45:\tlearn: 0.2205371\ttest: 0.2552919\tbest: 0.2552919 (45)\ttotal: 99.6ms\tremaining: 117ms\n",
      "46:\tlearn: 0.2199000\ttest: 0.2554535\tbest: 0.2552919 (45)\ttotal: 100ms\tremaining: 113ms\n",
      "47:\tlearn: 0.2189820\ttest: 0.2548191\tbest: 0.2548191 (47)\ttotal: 101ms\tremaining: 109ms\n",
      "48:\tlearn: 0.2174510\ttest: 0.2535786\tbest: 0.2535786 (48)\ttotal: 102ms\tremaining: 106ms\n",
      "49:\tlearn: 0.2168286\ttest: 0.2537775\tbest: 0.2535786 (48)\ttotal: 103ms\tremaining: 103ms\n",
      "50:\tlearn: 0.2158367\ttest: 0.2536086\tbest: 0.2535786 (48)\ttotal: 103ms\tremaining: 99.2ms\n",
      "51:\tlearn: 0.2147844\ttest: 0.2535932\tbest: 0.2535786 (48)\ttotal: 104ms\tremaining: 95.9ms\n",
      "52:\tlearn: 0.2134145\ttest: 0.2530694\tbest: 0.2530694 (52)\ttotal: 107ms\tremaining: 94.5ms\n",
      "53:\tlearn: 0.2125947\ttest: 0.2530784\tbest: 0.2530694 (52)\ttotal: 107ms\tremaining: 91.4ms\n",
      "54:\tlearn: 0.2123326\ttest: 0.2527331\tbest: 0.2527331 (54)\ttotal: 108ms\tremaining: 88.4ms\n",
      "55:\tlearn: 0.2116419\ttest: 0.2523256\tbest: 0.2523256 (55)\ttotal: 109ms\tremaining: 85.4ms\n",
      "56:\tlearn: 0.2111648\ttest: 0.2521472\tbest: 0.2521472 (56)\ttotal: 109ms\tremaining: 82.5ms\n",
      "57:\tlearn: 0.2111646\ttest: 0.2521396\tbest: 0.2521396 (57)\ttotal: 110ms\tremaining: 79.4ms\n",
      "58:\tlearn: 0.2110619\ttest: 0.2518996\tbest: 0.2518996 (58)\ttotal: 110ms\tremaining: 76.7ms\n",
      "59:\tlearn: 0.2110617\ttest: 0.2518925\tbest: 0.2518925 (59)\ttotal: 112ms\tremaining: 74.6ms\n",
      "60:\tlearn: 0.2099845\ttest: 0.2524165\tbest: 0.2518925 (59)\ttotal: 113ms\tremaining: 72.1ms\n",
      "61:\tlearn: 0.2091094\ttest: 0.2521047\tbest: 0.2518925 (59)\ttotal: 113ms\tremaining: 69.5ms\n",
      "62:\tlearn: 0.2091085\ttest: 0.2521194\tbest: 0.2518925 (59)\ttotal: 114ms\tremaining: 66.8ms\n",
      "63:\tlearn: 0.2090515\ttest: 0.2519524\tbest: 0.2518925 (59)\ttotal: 115ms\tremaining: 64.4ms\n",
      "64:\tlearn: 0.2084787\ttest: 0.2519901\tbest: 0.2518925 (59)\ttotal: 115ms\tremaining: 62ms\n",
      "65:\tlearn: 0.2084339\ttest: 0.2520769\tbest: 0.2518925 (59)\ttotal: 116ms\tremaining: 59.8ms\n",
      "66:\tlearn: 0.2080037\ttest: 0.2519548\tbest: 0.2518925 (59)\ttotal: 117ms\tremaining: 57.5ms\n",
      "67:\tlearn: 0.2077806\ttest: 0.2519172\tbest: 0.2518925 (59)\ttotal: 118ms\tremaining: 55.3ms\n",
      "68:\tlearn: 0.2077700\ttest: 0.2518455\tbest: 0.2518455 (68)\ttotal: 118ms\tremaining: 53ms\n",
      "69:\tlearn: 0.2076476\ttest: 0.2518045\tbest: 0.2518045 (69)\ttotal: 119ms\tremaining: 51.1ms\n",
      "70:\tlearn: 0.2072850\ttest: 0.2518757\tbest: 0.2518045 (69)\ttotal: 123ms\tremaining: 50.1ms\n",
      "71:\tlearn: 0.2066926\ttest: 0.2517041\tbest: 0.2517041 (71)\ttotal: 123ms\tremaining: 47.9ms\n",
      "72:\tlearn: 0.2064886\ttest: 0.2519321\tbest: 0.2517041 (71)\ttotal: 124ms\tremaining: 45.8ms\n",
      "73:\tlearn: 0.2064268\ttest: 0.2519095\tbest: 0.2517041 (71)\ttotal: 125ms\tremaining: 43.8ms\n",
      "74:\tlearn: 0.2061264\ttest: 0.2518897\tbest: 0.2517041 (71)\ttotal: 125ms\tremaining: 41.7ms\n",
      "75:\tlearn: 0.2058961\ttest: 0.2518936\tbest: 0.2517041 (71)\ttotal: 126ms\tremaining: 39.8ms\n",
      "76:\tlearn: 0.2055010\ttest: 0.2519495\tbest: 0.2517041 (71)\ttotal: 127ms\tremaining: 37.8ms\n",
      "77:\tlearn: 0.2054613\ttest: 0.2518626\tbest: 0.2517041 (71)\ttotal: 127ms\tremaining: 35.9ms\n",
      "78:\tlearn: 0.2054582\ttest: 0.2518724\tbest: 0.2517041 (71)\ttotal: 128ms\tremaining: 33.9ms\n",
      "79:\tlearn: 0.2054292\ttest: 0.2519031\tbest: 0.2517041 (71)\ttotal: 128ms\tremaining: 32ms\n",
      "80:\tlearn: 0.2051614\ttest: 0.2519439\tbest: 0.2517041 (71)\ttotal: 129ms\tremaining: 30.2ms\n",
      "81:\tlearn: 0.2051614\ttest: 0.2519451\tbest: 0.2517041 (71)\ttotal: 129ms\tremaining: 28.3ms\n",
      "82:\tlearn: 0.2050705\ttest: 0.2518282\tbest: 0.2517041 (71)\ttotal: 133ms\tremaining: 27.3ms\n",
      "83:\tlearn: 0.2048063\ttest: 0.2518504\tbest: 0.2517041 (71)\ttotal: 135ms\tremaining: 25.8ms\n",
      "84:\tlearn: 0.2047908\ttest: 0.2518455\tbest: 0.2517041 (71)\ttotal: 136ms\tremaining: 24ms\n",
      "85:\tlearn: 0.2046124\ttest: 0.2520248\tbest: 0.2517041 (71)\ttotal: 137ms\tremaining: 22.2ms\n",
      "86:\tlearn: 0.2040830\ttest: 0.2518000\tbest: 0.2517041 (71)\ttotal: 137ms\tremaining: 20.5ms\n",
      "87:\tlearn: 0.2037113\ttest: 0.2518415\tbest: 0.2517041 (71)\ttotal: 139ms\tremaining: 19ms\n",
      "88:\tlearn: 0.2036017\ttest: 0.2520132\tbest: 0.2517041 (71)\ttotal: 140ms\tremaining: 17.3ms\n",
      "89:\tlearn: 0.2035509\ttest: 0.2518712\tbest: 0.2517041 (71)\ttotal: 140ms\tremaining: 15.6ms\n",
      "90:\tlearn: 0.2033250\ttest: 0.2521879\tbest: 0.2517041 (71)\ttotal: 141ms\tremaining: 13.9ms\n",
      "91:\tlearn: 0.2032808\ttest: 0.2522159\tbest: 0.2517041 (71)\ttotal: 142ms\tremaining: 12.3ms\n",
      "92:\tlearn: 0.2029880\ttest: 0.2518534\tbest: 0.2517041 (71)\ttotal: 142ms\tremaining: 10.7ms\n",
      "93:\tlearn: 0.2029821\ttest: 0.2518812\tbest: 0.2517041 (71)\ttotal: 143ms\tremaining: 9.11ms\n",
      "94:\tlearn: 0.2029164\ttest: 0.2518857\tbest: 0.2517041 (71)\ttotal: 144ms\tremaining: 7.55ms\n",
      "95:\tlearn: 0.2025168\ttest: 0.2516789\tbest: 0.2516789 (95)\ttotal: 144ms\tremaining: 6.01ms\n",
      "96:\tlearn: 0.2025118\ttest: 0.2516947\tbest: 0.2516789 (95)\ttotal: 145ms\tremaining: 4.47ms\n",
      "97:\tlearn: 0.2022399\ttest: 0.2516560\tbest: 0.2516560 (97)\ttotal: 145ms\tremaining: 2.97ms\n",
      "98:\tlearn: 0.2022399\ttest: 0.2516571\tbest: 0.2516560 (97)\ttotal: 146ms\tremaining: 1.47ms\n",
      "99:\tlearn: 0.2022382\ttest: 0.2516643\tbest: 0.2516560 (97)\ttotal: 149ms\tremaining: 0us\n",
      "\n",
      "bestTest = 0.2516560465\n",
      "bestIteration = 97\n",
      "\n",
      "Shrink model to first 98 iterations.\n",
      "Accuracy: 0.945273631840796\n"
     ]
    }
   ],
   "source": [
    "# Define the CatBoost classifier\n",
    "model = CatBoostClassifier(\n",
    "    iterations=100, learning_rate=0.1, depth=6, cat_features=cat_features, random_state=random_state\n",
    ")\n",
    "\n",
    "# Train the model\n",
    "model.fit(\n",
    "    df_train[num_features + cat_features],\n",
    "    df_train[target],\n",
    "    eval_set=(df_val[num_features + cat_features], df_val[target]),\n",
    "    verbose=True,\n",
    ")\n",
    "\n",
    "# Make predictions on the test set\n",
    "y_pred = model.predict(df_test[num_features + cat_features])\n",
    "\n",
    "# Evaluate the model\n",
    "accuracy = (y_pred == df_test[\"AdoptionLikelihood\"]).mean()\n",
    "print(f\"Accuracy: {accuracy}\")"
   ]
  },
  {
   "cell_type": "code",
   "execution_count": 14,
   "metadata": {},
   "outputs": [
    {
     "data": {
      "image/png": "[encoded data removed]",
      "text/plain": [
       "<Figure size 640x480 with 2 Axes>"
      ]
     },
     "metadata": {},
     "output_type": "display_data"
    }
   ],
   "source": [
    "import seaborn as sns\n",
    "from sklearn.metrics import confusion_matrix\n",
    "import matplotlib.pyplot as plt\n",
    "\n",
    "# Get the true labels and predicted labels\n",
    "y_true = df_test[\"AdoptionLikelihood\"]\n",
    "y_pred = y_pred\n",
    "\n",
    "# Create the confusion matrix\n",
    "cm = confusion_matrix(y_true, y_pred)\n",
    "\n",
    "# Visualize the confusion matrix\n",
    "sns.heatmap(cm, annot=True, cmap=\"Blues\", fmt=\"g\")\n",
    "# Add true and predicted labels to the confusion matrix plot\n",
    "plt.xlabel(\"Predicted Labels\")\n",
    "plt.ylabel(\"True Labels\")\n",
    "plt.title(\"Confusion Matrix\")\n",
    "plt.show()"
   ]
  },
  {
   "cell_type": "code",
   "execution_count": 15,
   "metadata": {},
   "outputs": [
    {
     "name": "stdout",
     "output_type": "stream",
     "text": [
      "              precision    recall  f1-score   support\n",
      "\n",
      "     Class 0       0.94      0.99      0.96       270\n",
      "     Class 1       0.97      0.86      0.91       132\n",
      "\n",
      "    accuracy                           0.95       402\n",
      "   macro avg       0.95      0.92      0.94       402\n",
      "weighted avg       0.95      0.95      0.94       402\n",
      "\n"
     ]
    }
   ],
   "source": [
    "# Calculate classification metrics for each class and total\n",
    "report = classification_report(y_true, y_pred, target_names=[\"Class 0\", \"Class 1\"])\n",
    "\n",
    "# Print the classification report\n",
    "print(report)"
   ]
  }
 ],
 "metadata": {
  "kernelspec": {
   "display_name": "src-t1J8exPm-py3.10",
   "language": "python",
   "name": "python3"
  },
  "language_info": {
   "codemirror_mode": {
    "name": "ipython",
    "version": 3
   },
   "file_extension": ".py",
   "mimetype": "text/x-python",
   "name": "python",
   "nbconvert_exporter": "python",
   "pygments_lexer": "ipython3",
   "version": "3.10.12"
  }
 },
 "nbformat": 4,
 "nbformat_minor": 2
}
